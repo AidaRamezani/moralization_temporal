{
 "cells": [
  {
   "cell_type": "code",
   "execution_count": 14,
   "id": "63ec0e76-04a4-475e-91e4-9e881dc29644",
   "metadata": {},
   "outputs": [],
   "source": [
    "import os\n",
    "\n",
    "import numpy as np\n",
    "import pandas as pd\n",
    "from scipy.stats import pearsonr\n",
    "from sklearn.metrics import r2_score"
   ]
  },
  {
   "cell_type": "markdown",
   "id": "5f1197d4",
   "metadata": {},
   "source": [
    "# This notebooks evaluates the result of proposed framework using XLM-RoBERTa against empirical moral association scores from Small World of Words (SWoW) dataset."
   ]
  },
  {
   "cell_type": "code",
   "execution_count": 15,
   "id": "00dceb4b-1931-46f3-a8b3-b8485b19f71b",
   "metadata": {},
   "outputs": [],
   "source": [
    "test_results_path = \"./data/SWOW_prediction/eval/\""
   ]
  },
  {
   "cell_type": "code",
   "execution_count": 16,
   "id": "88767f43-f076-45d5-97fa-8360622267c4",
   "metadata": {},
   "outputs": [],
   "source": [
    "properties = [\"previous_link\", \"polarity\"]\n",
    "model_name = \"xlm-roberta-large\"\n",
    "reduces = [\n",
    "    \"forward\",\n",
    "    \"both\",\n",
    "]\n",
    "data_name = \"coha\"\n",
    "train_sections = np.arange(0, 5)\n",
    "\n",
    "loss_function_name = \"likelihood_loss\"\n",
    "graph_strategy = \"ppmi\"\n",
    "token_strategy = \"frequency\"\n",
    "graph_version = 2\n",
    "swow_version = 1\n",
    "fill = \"add\"\n",
    "add_self_loops = True\n",
    "sections = [\"dev\", \"test\"]\n",
    "baselines = [True, False]"
   ]
  },
  {
   "cell_type": "code",
   "execution_count": 17,
   "id": "3ed42676",
   "metadata": {},
   "outputs": [],
   "source": [
    "wanted = []"
   ]
  },
  {
   "cell_type": "code",
   "execution_count": 18,
   "id": "6729e1e1-27ee-4404-892e-367239f7042a",
   "metadata": {},
   "outputs": [],
   "source": [
    "list_rows = []\n",
    "\n",
    "for property in properties:\n",
    "\n",
    "    for baseline in baselines:\n",
    "\n",
    "        for reduce in reduces:\n",
    "            for section in sections:\n",
    "                total_df = pd.DataFrame()\n",
    "\n",
    "                for train_section in train_sections:\n",
    "\n",
    "                    if baseline == True:\n",
    "                        df_dir = (\n",
    "                            test_results_path\n",
    "                            + f\"{property}_basic_{model_name}_{data_name}_{train_section}_{loss_function_name}_graph_{graph_strategy}_graph_version_{graph_version}_swow_version_{swow_version}_fill_{fill}_add_self_loops_{add_self_loops}_token_strategy_{token_strategy}_{section}.csv\"\n",
    "                        )\n",
    "                    else:\n",
    "                        df_dir = (\n",
    "                            test_results_path\n",
    "                            + f\"{property}_{model_name}_{reduce}_{data_name}_{train_section}_{loss_function_name}_graph_{graph_strategy}_graph_version_{graph_version}_swow_version_{swow_version}_fill_{fill}_add_self_loops_{add_self_loops}_token_strategy_{token_strategy}_{section}.csv\"\n",
    "                        )\n",
    "\n",
    "                    if not os.path.exists(df_dir):\n",
    "                        continue\n",
    "\n",
    "                    df = pd.read_csv(df_dir)\n",
    "                    if baseline and property == \"polarity\":\n",
    "                        wanted.append(df)\n",
    "                    total_df = pd.concat((total_df, df), ignore_index=True)\n",
    "                if len(total_df) == 0:\n",
    "                    continue\n",
    "                df = (\n",
    "                    total_df.groupby([\"words\"])[[\"targets\", \"outputs\"]]\n",
    "                    .mean()\n",
    "                    .reset_index()\n",
    "                )\n",
    "\n",
    "                r, p = pearsonr(df.targets, df.outputs)\n",
    "                n = len(df)\n",
    "                r2 = r2_score(df.targets, df.outputs)\n",
    "                m = None\n",
    "                if baseline == True:\n",
    "                    m = \"BERT\"\n",
    "                elif reduce == \"both\":\n",
    "\n",
    "                    m = \"GCN + BERT\"\n",
    "\n",
    "                elif reduce == \"forward\":\n",
    "                    m = \"GCN\"\n",
    "\n",
    "                row = {\n",
    "                    \"model\": m,\n",
    "                    \"r\": float(r),\n",
    "                    \"p\": p,\n",
    "                    \"r2\": r2,\n",
    "                    \"train_section\": train_section,\n",
    "                    \"test_section\": section,\n",
    "                    \"property\": property,\n",
    "                    \"n\": n,\n",
    "                }\n",
    "                list_rows.append(row)\n",
    "\n",
    "results = pd.DataFrame(list_rows)"
   ]
  },
  {
   "cell_type": "code",
   "execution_count": 19,
   "id": "231e610e-28a4-4258-9fe9-5c57fc9470fd",
   "metadata": {},
   "outputs": [],
   "source": [
    "results = pd.DataFrame(list_rows)"
   ]
  },
  {
   "cell_type": "code",
   "execution_count": 20,
   "id": "6e0bd4bd-6967-4f69-9d85-6b34116361df",
   "metadata": {},
   "outputs": [
    {
     "name": "stdout",
     "output_type": "stream",
     "text": [
      "        model       property         r        r2      n              p\n",
      "0        BERT       polarity  0.462771 -0.070929  843.0   5.767353e-46\n",
      "2         GCN       polarity  0.594130  0.330941  843.0   1.420819e-81\n",
      "4  GCN + BERT       polarity  0.605670  0.364185  843.0   1.562124e-85\n",
      "1        BERT  previous_link  0.623960  0.387193  936.0  3.923608e-102\n",
      "3         GCN  previous_link  0.638555  0.399316  936.0  2.344228e-108\n",
      "5  GCN + BERT  previous_link  0.643423  0.412175  936.0  1.651430e-110\n"
     ]
    }
   ],
   "source": [
    "print(\n",
    "    results.loc[results.test_section == \"test\"]\n",
    "    .groupby([\"model\", \"property\"])[[\"r\", \"r2\", \"n\", \"p\"]]\n",
    "    .mean()\n",
    "    .reset_index()\n",
    "    .sort_values(by=[\"property\", \"r\", \"r2\", \"n\", \"p\"]),\n",
    ")"
   ]
  },
  {
   "cell_type": "code",
   "execution_count": null,
   "id": "5f700fd4-5300-421b-9b2c-e56b288b6a61",
   "metadata": {},
   "outputs": [],
   "source": []
  }
 ],
 "metadata": {
  "kernelspec": {
   "display_name": "Python 3 (ipykernel)",
   "language": "python",
   "name": "python3"
  },
  "language_info": {
   "codemirror_mode": {
    "name": "ipython",
    "version": 3
   },
   "file_extension": ".py",
   "mimetype": "text/x-python",
   "name": "python",
   "nbconvert_exporter": "python",
   "pygments_lexer": "ipython3",
   "version": "3.10.13"
  }
 },
 "nbformat": 4,
 "nbformat_minor": 5
}
