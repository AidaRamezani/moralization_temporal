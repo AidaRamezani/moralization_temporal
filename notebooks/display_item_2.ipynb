{
 "cells": [
  {
   "cell_type": "code",
   "execution_count": 1,
   "id": "3484402c-a7ff-44cf-85c8-b413592ac533",
   "metadata": {},
   "outputs": [],
   "source": [
    "import warnings\n",
    "\n",
    "import matplotlib.pyplot as plt\n",
    "import numpy as np\n",
    "import pandas as pd\n",
    "import pingouin as pg\n",
    "import seaborn as sns\n",
    "from scipy import stats\n",
    "\n",
    "warnings.filterwarnings(\"ignore\")"
   ]
  },
  {
   "cell_type": "code",
   "execution_count": 2,
   "id": "3a5db844-da11-455d-982a-ca3ffc432146",
   "metadata": {},
   "outputs": [],
   "source": [
    "# Loading COHA time series data\n",
    "ts_df = pd.read_csv(\"./data/SWOW_prediction/eval/time_series/ts_df.csv\")\n",
    "ts_df = (\n",
    "    ts_df.groupby([\"words\", \"year\", \"property\"])[[\"count\", \"outputs_z\"]]\n",
    "    .mean()\n",
    "    .reset_index()\n",
    ")\n",
    "ts_df[\"property_z\"] = ts_df[\"outputs_z\"]"
   ]
  },
  {
   "cell_type": "code",
   "execution_count": 3,
   "id": "7797e10e-917d-4e5e-87f9-714d137af889",
   "metadata": {},
   "outputs": [],
   "source": [
    "def get_disease_dataframe():\n",
    "    category_norms = pd.read_csv(\n",
    "        \"./data/Referential version_Item level data.csv\",\n",
    "    )  # diseases from category norm dataset\n",
    "    category_norms = category_norms.loc[category_norms[\"prod.freq\"] > 1]\n",
    "    disease_members = category_norms.loc[category_norms.category == \"disease\"][\n",
    "        \"category.member\"\n",
    "    ].unique()\n",
    "\n",
    "    epi_df = pd.read_csv(\n",
    "        \"./data/moralization_terms/epidemics.csv\",\n",
    "    )  # wikipedia list of epidemics\n",
    "    epidemic_cues = []\n",
    "    for i, row in epi_df.iterrows():\n",
    "        row_terms = row[\"Terms\"].split(\",\")\n",
    "        new_rows = [s.lower().strip() for s in row_terms]\n",
    "        epidemic_cues += new_rows\n",
    "\n",
    "    disease_df = pd.read_csv(\n",
    "        \"./data/moralization_terms/diseases.csv\",\n",
    "    )  # wikipedia list of diseases\n",
    "    disease_cues = []\n",
    "    for i, row in disease_df.iterrows():\n",
    "        row_terms = row[\"Terms\"].split(\",\")\n",
    "        new_rows = [s.lower().strip() for s in row_terms]\n",
    "        disease_cues += new_rows\n",
    "\n",
    "    all_cues = set(epidemic_cues + disease_cues + list(disease_members))  # All diseases\n",
    "    all_cues.remove(\"cold\")  # Removing ambiguous term 'cold'\n",
    "\n",
    "    disease_ts_df = ts_df.loc[\n",
    "        (ts_df.words.isin(all_cues)) & (ts_df[\"count\"] >= 50)\n",
    "    ].reset_index(drop=True)\n",
    "\n",
    "    # Calculating the mean relevance of disease terms at each decade\n",
    "    mean_relevances = disease_ts_df.loc[(disease_ts_df.property == \"previous_link\")]\n",
    "    mean_relevances = (\n",
    "        mean_relevances.groupby([\"words\", \"year\"]).outputs_z.mean().reset_index()\n",
    "    )\n",
    "\n",
    "    # Calculating the mean relevance of disease terms at each decade\n",
    "    moral_polarities = disease_ts_df.loc[(disease_ts_df.property == \"polarity\")]\n",
    "    moral_polarities = (\n",
    "        moral_polarities.groupby([\"words\", \"year\"]).outputs_z.mean().reset_index()\n",
    "    )\n",
    "\n",
    "    # Creating control dataframe without disease terms\n",
    "    all_df = (\n",
    "        ts_df.loc[\n",
    "            (ts_df[\"count\"] >= 50)\n",
    "            & (~ts_df.words.isin(all_cues))\n",
    "            & (ts_df.property == \"previous_link\")\n",
    "        ]\n",
    "        .groupby([\"words\", \"year\"])\n",
    "        .outputs_z.mean()\n",
    "        .reset_index()\n",
    "    )\n",
    "\n",
    "    # Creating control dataframe without disease terms (for morality)\n",
    "    all_polarity_df = (\n",
    "        ts_df.loc[\n",
    "            (ts_df[\"count\"] >= 50)\n",
    "            & (~ts_df.words.isin(all_cues))\n",
    "            & (ts_df.property == \"polarity\")\n",
    "        ]\n",
    "        .groupby([\"words\", \"year\"])\n",
    "        .outputs_z.mean()\n",
    "        .reset_index()\n",
    "    )\n",
    "\n",
    "    return (\n",
    "        all_cues,\n",
    "        disease_ts_df,\n",
    "        mean_relevances,\n",
    "        moral_polarities,\n",
    "        all_df,\n",
    "        all_polarity_df,\n",
    "    )"
   ]
  },
  {
   "cell_type": "code",
   "execution_count": 4,
   "id": "2a5bc6b9",
   "metadata": {},
   "outputs": [],
   "source": [
    "all_cues, disease_ts_df, mean_relevances, moral_polarities, all_df, all_polarity_df = (\n",
    "    get_disease_dataframe()\n",
    ")"
   ]
  },
  {
   "cell_type": "code",
   "execution_count": 10,
   "id": "3773631b",
   "metadata": {},
   "outputs": [
    {
     "data": {
      "text/plain": [
       "22"
      ]
     },
     "execution_count": 10,
     "metadata": {},
     "output_type": "execute_result"
    }
   ],
   "source": [
    "len(disease_ts_df.words.unique())"
   ]
  },
  {
   "cell_type": "code",
   "execution_count": 5,
   "id": "6a4b1169",
   "metadata": {},
   "outputs": [
    {
     "data": {
      "text/plain": [
       "array(['anthrax', 'cancer', 'cholera', 'diabetes', 'diphtheria', 'flu',\n",
       "       'hepatitis', 'hiv', 'hivaids', 'influenza', 'leukemia', 'malaria',\n",
       "       'measles', 'plague', 'polio', 'salmonella', 'scarlet fever',\n",
       "       'smallpox', 'tuberculosis', 'typhoid', 'typhus', 'yellow fever'],\n",
       "      dtype=object)"
      ]
     },
     "execution_count": 5,
     "metadata": {},
     "output_type": "execute_result"
    }
   ],
   "source": [
    "disease_ts_df.words.unique()"
   ]
  },
  {
   "cell_type": "code",
   "execution_count": 11,
   "id": "eee24ba0-e705-49f0-ae83-eb9cef361ec4",
   "metadata": {},
   "outputs": [
    {
     "data": {
      "text/html": [
       "<div>\n",
       "<style scoped>\n",
       "    .dataframe tbody tr th:only-of-type {\n",
       "        vertical-align: middle;\n",
       "    }\n",
       "\n",
       "    .dataframe tbody tr th {\n",
       "        vertical-align: top;\n",
       "    }\n",
       "\n",
       "    .dataframe thead th {\n",
       "        text-align: right;\n",
       "    }\n",
       "</style>\n",
       "<table border=\"1\" class=\"dataframe\">\n",
       "  <thead>\n",
       "    <tr style=\"text-align: right;\">\n",
       "      <th></th>\n",
       "      <th>words</th>\n",
       "      <th>year</th>\n",
       "      <th>outputs_z</th>\n",
       "    </tr>\n",
       "  </thead>\n",
       "  <tbody>\n",
       "    <tr>\n",
       "      <th>40</th>\n",
       "      <td>flu</td>\n",
       "      <td>2000</td>\n",
       "      <td>0.792568</td>\n",
       "    </tr>\n",
       "    <tr>\n",
       "      <th>82</th>\n",
       "      <td>plague</td>\n",
       "      <td>1900</td>\n",
       "      <td>1.579608</td>\n",
       "    </tr>\n",
       "    <tr>\n",
       "      <th>101</th>\n",
       "      <td>salmonella</td>\n",
       "      <td>2000</td>\n",
       "      <td>0.837090</td>\n",
       "    </tr>\n",
       "    <tr>\n",
       "      <th>117</th>\n",
       "      <td>tuberculosis</td>\n",
       "      <td>1940</td>\n",
       "      <td>2.442727</td>\n",
       "    </tr>\n",
       "  </tbody>\n",
       "</table>\n",
       "</div>"
      ],
      "text/plain": [
       "            words  year  outputs_z\n",
       "40            flu  2000   0.792568\n",
       "82         plague  1900   1.579608\n",
       "101    salmonella  2000   0.837090\n",
       "117  tuberculosis  1940   2.442727"
      ]
     },
     "execution_count": 11,
     "metadata": {},
     "output_type": "execute_result"
    }
   ],
   "source": [
    "mean_relevances.sample(4)  # (disease, year, moral relevance)"
   ]
  },
  {
   "cell_type": "code",
   "execution_count": 12,
   "id": "d0a82f5d-16dc-463e-95d5-c846aae6006e",
   "metadata": {},
   "outputs": [],
   "source": [
    "def get_mean_values(all_df, mean_relevances, year_column):\n",
    "    \"\"\"Function to create create a bootstrap sample of the mean relevance of non-disease terms for controlling\n",
    "\n",
    "    Args:\n",
    "        all_df (pd.DataFrame): Dataframe containing the moral relevance of all words that are not disease terms\n",
    "        mean_relevances (pd.DataFrame): Dataframe containing the relevance of disease terms\n",
    "        year_column (str): Column name for the year in the dataframe\n",
    "\n",
    "    Returns:\n",
    "        mean_values (list): List of mean relevance values for the bootstrap samples\n",
    "        new_df (pd.DataFrame): Dataframe containing a randomly sampled control data\n",
    "\n",
    "    \"\"\"\n",
    "    B = 1000\n",
    "    mean_values = []\n",
    "    all_df = all_df.copy(deep=True)\n",
    "    all_df.set_index(\"year\", inplace=True)\n",
    "\n",
    "    for b in range(B):\n",
    "        all_dfs = []\n",
    "        if b % 100 == 0:\n",
    "            print(b)\n",
    "        new_df = pd.DataFrame()\n",
    "        for i, row in mean_relevances.iterrows():\n",
    "            year = row[year_column]\n",
    "            new_row = all_df.loc[all_df.index == year]\n",
    "            if len(new_row) > 0:\n",
    "                all_dfs.append(new_row.sample(1))\n",
    "        new_df = pd.concat(all_dfs, ignore_index=True)\n",
    "        mean_values.append(new_df.outputs_z.mean())\n",
    "    return mean_values, new_df"
   ]
  },
  {
   "cell_type": "code",
   "execution_count": 13,
   "id": "917aa35e-7323-4f13-b6d7-db2e28560e7d",
   "metadata": {},
   "outputs": [
    {
     "name": "stdout",
     "output_type": "stream",
     "text": [
      "0\n",
      "100\n",
      "200\n",
      "300\n",
      "400\n",
      "500\n",
      "600\n",
      "700\n",
      "800\n",
      "900\n"
     ]
    }
   ],
   "source": [
    "disease_random_mean_values, disease_random_df = get_mean_values(\n",
    "    all_df, mean_relevances, \"year\",\n",
    ")"
   ]
  },
  {
   "cell_type": "markdown",
   "id": "f4da734f",
   "metadata": {},
   "source": [
    "### Let's compare the moral relevance of diseases terms with a bootstrapped mean of moral relevance for non-disease terms"
   ]
  },
  {
   "cell_type": "code",
   "execution_count": 14,
   "id": "c84f5ceb",
   "metadata": {},
   "outputs": [
    {
     "name": "stdout",
     "output_type": "stream",
     "text": [
      "                 T  dof alternative  p-val          CI95%    cohen-d BF10  \\\n",
      "T-test -669.985784  999        less    0.0  [-inf, -0.01]  21.186811  inf   \n",
      "\n",
      "        power  \n",
      "T-test    1.0  \n"
     ]
    }
   ],
   "source": [
    "print(\n",
    "    pg.ttest(\n",
    "        disease_random_mean_values, mean_relevances.outputs_z.mean(), alternative=\"less\",\n",
    "    ),\n",
    ")  # diseases are more relevant than random terms"
   ]
  },
  {
   "cell_type": "code",
   "execution_count": 15,
   "id": "f4c27e68",
   "metadata": {},
   "outputs": [
    {
     "name": "stdout",
     "output_type": "stream",
     "text": [
      "0\n",
      "100\n",
      "200\n",
      "300\n",
      "400\n",
      "500\n",
      "600\n",
      "700\n",
      "800\n",
      "900\n"
     ]
    }
   ],
   "source": [
    "# Reapting the process for moral polarity\n",
    "disease_random_mean_polarity_values, disease_polarity_random_df = get_mean_values(\n",
    "    all_polarity_df, moral_polarities, \"year\",\n",
    ")"
   ]
  },
  {
   "cell_type": "code",
   "execution_count": 16,
   "id": "d81ffb83",
   "metadata": {},
   "outputs": [
    {
     "name": "stdout",
     "output_type": "stream",
     "text": [
      "                 T  dof alternative  p-val        CI95%    cohen-d BF10  power\n",
      "T-test  939.745457  999     greater    0.0  [0.02, inf]  29.717361  inf    1.0\n"
     ]
    }
   ],
   "source": [
    "print(\n",
    "    pg.ttest(\n",
    "        disease_random_mean_polarity_values,\n",
    "        moral_polarities.outputs_z.mean(),\n",
    "        alternative=\"greater\",\n",
    "    ),\n",
    ")  # diseases are more morally negative than random terms"
   ]
  },
  {
   "cell_type": "markdown",
   "id": "d968cc4f",
   "metadata": {},
   "source": [
    "### Let's compare the valence of disease terms with the moral relevance scores"
   ]
  },
  {
   "cell_type": "code",
   "execution_count": 33,
   "id": "9ed0d96c",
   "metadata": {},
   "outputs": [],
   "source": [
    "sentiment_df = pd.read_csv(\"./data/SWOW_prediction/eval/coha_sentiments.csv\")"
   ]
  },
  {
   "cell_type": "code",
   "execution_count": 42,
   "id": "e77000d1",
   "metadata": {},
   "outputs": [],
   "source": [
    "mean_relevances = mean_relevances.merge(\n",
    "    sentiment_df, on=[\"words\", \"year\"], how=\"left\",\n",
    ").dropna()"
   ]
  },
  {
   "cell_type": "code",
   "execution_count": 43,
   "id": "83123b83",
   "metadata": {},
   "outputs": [
    {
     "name": "stdout",
     "output_type": "stream",
     "text": [
      "Pearson r: 0.04261087982195312\n",
      "p-value: 0.8584309926539557\n"
     ]
    }
   ],
   "source": [
    "disease_relevance_sentiment = (\n",
    "    mean_relevances.groupby(\"words\")[[\"outputs_z\", \"sentiments\"]].mean().reset_index()\n",
    ")\n",
    "pearson_r, pval = stats.pearsonr(\n",
    "    disease_relevance_sentiment.outputs_z, disease_relevance_sentiment.sentiments,\n",
    ")\n",
    "print(\"Pearson r:\", pearson_r)\n",
    "print(\"p-value:\", pval)  # Pearson correlation between moral relevance and sentiment"
   ]
  },
  {
   "cell_type": "code",
   "execution_count": 47,
   "id": "421eff99",
   "metadata": {},
   "outputs": [
    {
     "name": "stdout",
     "output_type": "stream",
     "text": [
      "Pearson r: -0.06210098787252401\n",
      "p-value: 0.7947926345915525\n"
     ]
    }
   ],
   "source": [
    "moral_polarities = moral_polarities.merge(\n",
    "    sentiment_df, on=[\"words\", \"year\"], how=\"left\",\n",
    ").dropna()\n",
    "disease_polarity_sentiment = (\n",
    "    moral_polarities.groupby(\"words\")[[\"outputs_z\", \"sentiments\"]].mean().reset_index()\n",
    ")\n",
    "pearson_r, pval = stats.pearsonr(\n",
    "    disease_polarity_sentiment.outputs_z, disease_polarity_sentiment.sentiments,\n",
    ")\n",
    "print(\"Pearson r:\", pearson_r)\n",
    "print(\"p-value:\", pval)"
   ]
  },
  {
   "cell_type": "markdown",
   "id": "1f6523c7",
   "metadata": {},
   "source": [
    "### Conclusion: No significant correlation between moral association scores and sentiment scores for dieases terms!"
   ]
  },
  {
   "cell_type": "markdown",
   "id": "8a228392",
   "metadata": {},
   "source": [
    "# Let's study moral association scores of political leaders"
   ]
  },
  {
   "cell_type": "code",
   "execution_count": 50,
   "id": "f4337843-f98e-4068-8d44-c72b839679c9",
   "metadata": {},
   "outputs": [],
   "source": [
    "leader_data = pd.read_csv(\"./data/wikipedia_political_ts_df.csv\")  # political leaders"
   ]
  },
  {
   "cell_type": "code",
   "execution_count": 51,
   "id": "255205aa-be1b-4f21-9629-99aa079e9045",
   "metadata": {},
   "outputs": [],
   "source": [
    "import os\n",
    "\n",
    "decades = np.arange(1850, 2010, 10)\n",
    "baby_names = set()\n",
    "for decade in decades:\n",
    "\n",
    "    years = np.arange(decade, decade + 10)\n",
    "    for year in years:\n",
    "        file_dir = f\"./data/names/yob{year}.txt\"  # Data set of baby names in the United States. (Download seperately)\n",
    "        if os.path.exists(file_dir):\n",
    "            with open(file_dir) as f:\n",
    "                lines = f.readlines()\n",
    "                for line in lines:\n",
    "                    name, gender, count = line.split(\",\")\n",
    "                    count = int(count)\n",
    "                    name = name.lower()\n",
    "                    baby_names.add(name)\n",
    "baby_ts_df = ts_df.loc[\n",
    "    (ts_df[\"count\"] >= 50)\n",
    "    & (ts_df.property == \"previous_link\")\n",
    "    & (ts_df.words.isin(baby_names))\n",
    "]\n",
    "baby_ts_df_polarity = ts_df.loc[\n",
    "    (ts_df[\"count\"] >= 50)\n",
    "    & (ts_df.property == \"polarity\")\n",
    "    & (ts_df.words.isin(baby_names))\n",
    "]"
   ]
  },
  {
   "cell_type": "code",
   "execution_count": 52,
   "id": "f2f4ea72-983e-44d3-b47b-7eacd1cf5c57",
   "metadata": {},
   "outputs": [],
   "source": [
    "politic_mean_relevances = (\n",
    "    leader_data.groupby([\"Query\", \"Decade\"]).Moral_relevance.mean().reset_index()\n",
    ")\n",
    "\n",
    "politic_mean_relevances[\"outputs_z\"] = politic_mean_relevances.Moral_relevance"
   ]
  },
  {
   "cell_type": "code",
   "execution_count": 53,
   "id": "e272703b",
   "metadata": {},
   "outputs": [],
   "source": [
    "politic_mean_polarities = (\n",
    "    leader_data.groupby([\"Query\", \"Decade\"]).Moral_polarity.mean().reset_index()\n",
    ")\n",
    "politic_mean_polarities[\"outputs_z\"] = politic_mean_polarities.Moral_polarity"
   ]
  },
  {
   "cell_type": "code",
   "execution_count": 54,
   "id": "e28d5da9-862d-4cad-a797-11b27201aa8b",
   "metadata": {},
   "outputs": [
    {
     "name": "stdout",
     "output_type": "stream",
     "text": [
      "65\n"
     ]
    },
    {
     "data": {
      "text/html": [
       "<div>\n",
       "<style scoped>\n",
       "    .dataframe tbody tr th:only-of-type {\n",
       "        vertical-align: middle;\n",
       "    }\n",
       "\n",
       "    .dataframe tbody tr th {\n",
       "        vertical-align: top;\n",
       "    }\n",
       "\n",
       "    .dataframe thead th {\n",
       "        text-align: right;\n",
       "    }\n",
       "</style>\n",
       "<table border=\"1\" class=\"dataframe\">\n",
       "  <thead>\n",
       "    <tr style=\"text-align: right;\">\n",
       "      <th></th>\n",
       "      <th>Query</th>\n",
       "      <th>Decade</th>\n",
       "      <th>Moral_relevance</th>\n",
       "      <th>outputs_z</th>\n",
       "    </tr>\n",
       "  </thead>\n",
       "  <tbody>\n",
       "    <tr>\n",
       "      <th>0</th>\n",
       "      <td>Abraham Lincoln</td>\n",
       "      <td>1860</td>\n",
       "      <td>1.408266</td>\n",
       "      <td>1.408266</td>\n",
       "    </tr>\n",
       "    <tr>\n",
       "      <th>1</th>\n",
       "      <td>Adolf Hitler</td>\n",
       "      <td>1940</td>\n",
       "      <td>2.084618</td>\n",
       "      <td>2.084618</td>\n",
       "    </tr>\n",
       "    <tr>\n",
       "      <th>2</th>\n",
       "      <td>Ahmed Sékou Touré</td>\n",
       "      <td>1980</td>\n",
       "      <td>-0.163273</td>\n",
       "      <td>-0.163273</td>\n",
       "    </tr>\n",
       "    <tr>\n",
       "      <th>3</th>\n",
       "      <td>Andrew Johnson</td>\n",
       "      <td>1860</td>\n",
       "      <td>1.128079</td>\n",
       "      <td>1.128079</td>\n",
       "    </tr>\n",
       "    <tr>\n",
       "      <th>4</th>\n",
       "      <td>Benito Mussolini</td>\n",
       "      <td>1940</td>\n",
       "      <td>0.331907</td>\n",
       "      <td>0.331907</td>\n",
       "    </tr>\n",
       "    <tr>\n",
       "      <th>...</th>\n",
       "      <td>...</td>\n",
       "      <td>...</td>\n",
       "      <td>...</td>\n",
       "      <td>...</td>\n",
       "    </tr>\n",
       "    <tr>\n",
       "      <th>60</th>\n",
       "      <td>William McKinley</td>\n",
       "      <td>1900</td>\n",
       "      <td>0.489170</td>\n",
       "      <td>0.489170</td>\n",
       "    </tr>\n",
       "    <tr>\n",
       "      <th>61</th>\n",
       "      <td>Winston Churchill</td>\n",
       "      <td>1940</td>\n",
       "      <td>0.729539</td>\n",
       "      <td>0.729539</td>\n",
       "    </tr>\n",
       "    <tr>\n",
       "      <th>62</th>\n",
       "      <td>Woodrow Wilson</td>\n",
       "      <td>1920</td>\n",
       "      <td>0.897606</td>\n",
       "      <td>0.897606</td>\n",
       "    </tr>\n",
       "    <tr>\n",
       "      <th>63</th>\n",
       "      <td>Yuri Andropov</td>\n",
       "      <td>1980</td>\n",
       "      <td>-0.924460</td>\n",
       "      <td>-0.924460</td>\n",
       "    </tr>\n",
       "    <tr>\n",
       "      <th>64</th>\n",
       "      <td>Zachary Taylor</td>\n",
       "      <td>1850</td>\n",
       "      <td>2.067802</td>\n",
       "      <td>2.067802</td>\n",
       "    </tr>\n",
       "  </tbody>\n",
       "</table>\n",
       "<p>65 rows × 4 columns</p>\n",
       "</div>"
      ],
      "text/plain": [
       "                Query  Decade  Moral_relevance  outputs_z\n",
       "0     Abraham Lincoln    1860         1.408266   1.408266\n",
       "1        Adolf Hitler    1940         2.084618   2.084618\n",
       "2   Ahmed Sékou Touré    1980        -0.163273  -0.163273\n",
       "3      Andrew Johnson    1860         1.128079   1.128079\n",
       "4    Benito Mussolini    1940         0.331907   0.331907\n",
       "..                ...     ...              ...        ...\n",
       "60   William McKinley    1900         0.489170   0.489170\n",
       "61  Winston Churchill    1940         0.729539   0.729539\n",
       "62     Woodrow Wilson    1920         0.897606   0.897606\n",
       "63      Yuri Andropov    1980        -0.924460  -0.924460\n",
       "64     Zachary Taylor    1850         2.067802   2.067802\n",
       "\n",
       "[65 rows x 4 columns]"
      ]
     },
     "execution_count": 54,
     "metadata": {},
     "output_type": "execute_result"
    }
   ],
   "source": [
    "print(len(politic_mean_relevances))\n",
    "politic_mean_relevances"
   ]
  },
  {
   "cell_type": "code",
   "execution_count": 55,
   "id": "7e3df97a-a57c-4f77-b743-91535da4579f",
   "metadata": {
    "scrolled": true
   },
   "outputs": [
    {
     "name": "stdout",
     "output_type": "stream",
     "text": [
      "0\n",
      "100\n",
      "200\n",
      "300\n",
      "400\n",
      "500\n",
      "600\n",
      "700\n",
      "800\n",
      "900\n"
     ]
    }
   ],
   "source": [
    "random_name_mean_values, random_name_df = get_mean_values(\n",
    "    baby_ts_df, politic_mean_relevances, \"Decade\",\n",
    ")"
   ]
  },
  {
   "cell_type": "code",
   "execution_count": 56,
   "id": "e3455b46",
   "metadata": {},
   "outputs": [
    {
     "data": {
      "text/html": [
       "<div>\n",
       "<style scoped>\n",
       "    .dataframe tbody tr th:only-of-type {\n",
       "        vertical-align: middle;\n",
       "    }\n",
       "\n",
       "    .dataframe tbody tr th {\n",
       "        vertical-align: top;\n",
       "    }\n",
       "\n",
       "    .dataframe thead th {\n",
       "        text-align: right;\n",
       "    }\n",
       "</style>\n",
       "<table border=\"1\" class=\"dataframe\">\n",
       "  <thead>\n",
       "    <tr style=\"text-align: right;\">\n",
       "      <th></th>\n",
       "      <th>T</th>\n",
       "      <th>dof</th>\n",
       "      <th>alternative</th>\n",
       "      <th>p-val</th>\n",
       "      <th>CI95%</th>\n",
       "      <th>cohen-d</th>\n",
       "      <th>BF10</th>\n",
       "      <th>power</th>\n",
       "    </tr>\n",
       "  </thead>\n",
       "  <tbody>\n",
       "    <tr>\n",
       "      <th>T-test</th>\n",
       "      <td>-217.343694</td>\n",
       "      <td>999</td>\n",
       "      <td>less</td>\n",
       "      <td>0.0</td>\n",
       "      <td>[-inf, -0.05]</td>\n",
       "      <td>6.873011</td>\n",
       "      <td>inf</td>\n",
       "      <td>1.0</td>\n",
       "    </tr>\n",
       "  </tbody>\n",
       "</table>\n",
       "</div>"
      ],
      "text/plain": [
       "                 T  dof alternative  p-val          CI95%   cohen-d BF10  \\\n",
       "T-test -217.343694  999        less    0.0  [-inf, -0.05]  6.873011  inf   \n",
       "\n",
       "        power  \n",
       "T-test    1.0  "
      ]
     },
     "execution_count": 56,
     "metadata": {},
     "output_type": "execute_result"
    }
   ],
   "source": [
    "pg.ttest(\n",
    "    random_name_mean_values,\n",
    "    politic_mean_relevances.Moral_relevance.mean(),\n",
    "    alternative=\"less\",\n",
    ")  # political leaders are more morally relevant than random names"
   ]
  },
  {
   "cell_type": "code",
   "execution_count": 57,
   "id": "8599f8d1-f7d8-47d0-8960-3e3308f5ac70",
   "metadata": {},
   "outputs": [
    {
     "name": "stdout",
     "output_type": "stream",
     "text": [
      "0\n",
      "100\n",
      "200\n",
      "300\n",
      "400\n",
      "500\n",
      "600\n",
      "700\n",
      "800\n",
      "900\n"
     ]
    }
   ],
   "source": [
    "random_name_polarity_values, random_polarity_name_df = get_mean_values(\n",
    "    baby_ts_df_polarity, politic_mean_polarities, \"Decade\",\n",
    ")"
   ]
  },
  {
   "cell_type": "code",
   "execution_count": 58,
   "id": "e1d1bfa5",
   "metadata": {},
   "outputs": [
    {
     "data": {
      "text/html": [
       "<div>\n",
       "<style scoped>\n",
       "    .dataframe tbody tr th:only-of-type {\n",
       "        vertical-align: middle;\n",
       "    }\n",
       "\n",
       "    .dataframe tbody tr th {\n",
       "        vertical-align: top;\n",
       "    }\n",
       "\n",
       "    .dataframe thead th {\n",
       "        text-align: right;\n",
       "    }\n",
       "</style>\n",
       "<table border=\"1\" class=\"dataframe\">\n",
       "  <thead>\n",
       "    <tr style=\"text-align: right;\">\n",
       "      <th></th>\n",
       "      <th>T</th>\n",
       "      <th>dof</th>\n",
       "      <th>alternative</th>\n",
       "      <th>p-val</th>\n",
       "      <th>CI95%</th>\n",
       "      <th>cohen-d</th>\n",
       "      <th>BF10</th>\n",
       "      <th>power</th>\n",
       "    </tr>\n",
       "  </thead>\n",
       "  <tbody>\n",
       "    <tr>\n",
       "      <th>T-test</th>\n",
       "      <td>-117.36516</td>\n",
       "      <td>999</td>\n",
       "      <td>less</td>\n",
       "      <td>0.0</td>\n",
       "      <td>[-inf, 0.08]</td>\n",
       "      <td>3.711412</td>\n",
       "      <td>inf</td>\n",
       "      <td>1.0</td>\n",
       "    </tr>\n",
       "  </tbody>\n",
       "</table>\n",
       "</div>"
      ],
      "text/plain": [
       "                T  dof alternative  p-val         CI95%   cohen-d BF10  power\n",
       "T-test -117.36516  999        less    0.0  [-inf, 0.08]  3.711412  inf    1.0"
      ]
     },
     "execution_count": 58,
     "metadata": {},
     "output_type": "execute_result"
    }
   ],
   "source": [
    "pg.ttest(\n",
    "    random_name_polarity_values,\n",
    "    politic_mean_polarities.Moral_polarity.mean(),\n",
    "    alternative=\"less\",\n",
    ")  # political leaders are more positive than random names"
   ]
  },
  {
   "cell_type": "code",
   "execution_count": 59,
   "id": "9bbe99fc-6813-40aa-a5df-500bd548828a",
   "metadata": {},
   "outputs": [
    {
     "name": "stdout",
     "output_type": "stream",
     "text": [
      "-0.18340367018250525 0.1468111344530072\n",
      "                 T  dof alternative  p-val          CI95%    cohen-d BF10  \\\n",
      "T-test -673.152902  999        less    0.0  [-inf, -0.01]  21.286964  inf   \n",
      "\n",
      "        power  \n",
      "T-test    1.0  \n",
      "Effect size: 2.214826354961754\n",
      "Two group t-test:                 T         dof alternative         p-val        CI95%  \\\n",
      "T-test  18.204392  210.512077     greater  2.092581e-45  [1.57, inf]   \n",
      "\n",
      "         cohen-d       BF10  power  \n",
      "T-test  2.214826  1.607e+45    1.0  \n",
      "--------\n",
      "-0.2826039612432996 0.17060643220405863\n",
      "TtestResult(statistic=-217.34369396011235, pvalue=0.0, df=999)\n",
      "Effect size: 0.9875746688921737\n",
      "Two group t-test:                T  dof alternative         p-val        CI95%   cohen-d  \\\n",
      "T-test  5.687735   64     greater  1.719418e-07  [0.56, inf]  0.987575   \n",
      "\n",
      "             BF10  power  \n",
      "T-test  8.462e+04    1.0  \n",
      "                 T  dof alternative  p-val          CI95%   cohen-d BF10  \\\n",
      "T-test -217.343694  999        less    0.0  [-inf, -0.05]  6.873011  inf   \n",
      "\n",
      "        power  \n",
      "T-test    1.0  \n"
     ]
    },
    {
     "data": {
      "image/png": "[encoded data removed]",
      "text/plain": [
       "<Figure size 1200x400 with 2 Axes>"
      ]
     },
     "metadata": {},
     "output_type": "display_data"
    }
   ],
   "source": [
    "fig, axes = plt.subplots(1, 2, figsize=(12, 4))\n",
    "ax = axes[0]\n",
    "std = np.std(disease_random_mean_values)\n",
    "mu = np.mean(disease_random_mean_values)\n",
    "print(mu - 2 * std, mu + 2 * std)\n",
    "\n",
    "print(\n",
    "    pg.ttest(\n",
    "        disease_random_mean_values, mean_relevances.outputs_z.mean(), alternative=\"less\",\n",
    "    ),\n",
    ")\n",
    "print(\n",
    "    \"Effect size:\",\n",
    "    pg.compute_effsize(\n",
    "        mean_relevances.outputs_z,\n",
    "        disease_random_df.outputs_z,\n",
    "        paired=True,\n",
    "        eftype=\"cohen\",\n",
    "    ),\n",
    ")\n",
    "\n",
    "print(\n",
    "    \"Two group t-test:\",\n",
    "    pg.ttest(\n",
    "        mean_relevances.outputs_z,\n",
    "        disease_random_df.outputs_z,\n",
    "        paired=True,\n",
    "        alternative=\"greater\",\n",
    "    ),\n",
    ")\n",
    "z_score = (mean_relevances.outputs_z.mean() - mu) / std\n",
    "# print('Zscore:', z_score, 1 - stats.norm.cdf(z_score))\n",
    "rng = np.random.default_rng(19680801)\n",
    "X = rng.normal(loc=mu, scale=std, size=420)\n",
    "\n",
    "num_bins = 42\n",
    "std = mean_relevances.outputs_z.std()\n",
    "mu = mean_relevances.outputs_z.mean()\n",
    "rng = np.random.default_rng(19680801)\n",
    "X = rng.normal(loc=mu, scale=std, size=420)\n",
    "\n",
    "num_bins = 20\n",
    "n, bins, patches = ax.hist(\n",
    "    mean_relevances.outputs_z, num_bins, density=True, color=\"tab:orange\", alpha=0.5,\n",
    ")\n",
    "\n",
    "y = (1 / (np.sqrt(2 * np.pi) * std)) * np.exp(-0.5 * (1 / std * (bins - mu)) ** 2)\n",
    "ax.plot(bins, y, \"--\", color=\"tab:orange\", label=\"Disease terms\")\n",
    "ax.set_ylabel(\"Count (estimated density)\", fontsize=14)\n",
    "\n",
    "std = disease_random_df.outputs_z.std()\n",
    "mu = disease_random_df.outputs_z.mean()\n",
    "rng = np.random.default_rng(19680801)\n",
    "X = rng.normal(loc=mu, scale=std, size=420)\n",
    "num_bins = 20\n",
    "n, bins, patches = ax.hist(\n",
    "    disease_random_df.outputs_z, num_bins, density=True, color=\"tab:blue\", alpha=0.5,\n",
    ")\n",
    "\n",
    "y = (1 / (np.sqrt(2 * np.pi) * std)) * np.exp(-0.5 * (1 / std * (bins - mu)) ** 2)\n",
    "ax.plot(bins, y, \"--\", color=\"tab:blue\", label=\"Random terms\")\n",
    "\n",
    "ax.legend(fontsize=14)\n",
    "ax.set_xlabel(r\"Reconstructed moral relevance\", fontsize=14)\n",
    "ax.set_xticklabels(ax.get_xticklabels(), fontsize=14)\n",
    "ax.set_yticklabels(ax.get_yticklabels(), fontsize=14)\n",
    "\n",
    "\n",
    "ax = axes[1]\n",
    "print(\"--------\")\n",
    "std = np.std(random_name_mean_values)\n",
    "mu = np.mean(random_name_mean_values)\n",
    "print(mu - 2 * std, mu + 2 * std)\n",
    "print(\n",
    "    stats.ttest_1samp(\n",
    "        random_name_mean_values,\n",
    "        popmean=politic_mean_relevances.Moral_relevance.mean(),\n",
    "        alternative=\"less\",\n",
    "    ),\n",
    ")\n",
    "z_score = (politic_mean_relevances.Moral_relevance.mean() - mu) / std\n",
    "\n",
    "print(\n",
    "    \"Effect size:\",\n",
    "    pg.compute_effsize(\n",
    "        politic_mean_relevances.Moral_relevance,\n",
    "        random_name_df.outputs_z,\n",
    "        paired=True,\n",
    "        eftype=\"cohen\",\n",
    "    ),\n",
    ")\n",
    "\n",
    "print(\n",
    "    \"Two group t-test:\",\n",
    "    pg.ttest(\n",
    "        politic_mean_relevances.outputs_z,\n",
    "        random_name_df.outputs_z,\n",
    "        paired=True,\n",
    "        alternative=\"greater\",\n",
    "    ),\n",
    ")\n",
    "\n",
    "z_score = (politic_mean_relevances.Moral_relevance.mean() - mu) / std\n",
    "print(\n",
    "    pg.ttest(\n",
    "        random_name_mean_values,\n",
    "        politic_mean_relevances.outputs_z.mean(),\n",
    "        alternative=\"less\",\n",
    "    ),\n",
    ")\n",
    "\n",
    "\n",
    "rng = np.random.default_rng(19680801)\n",
    "X = rng.normal(loc=mu, scale=std, size=420)\n",
    "\n",
    "num_bins = 42\n",
    "\n",
    "\n",
    "std = politic_mean_relevances.Moral_relevance.std()\n",
    "mu = politic_mean_relevances.Moral_relevance.mean()\n",
    "rng = np.random.default_rng(19680801)\n",
    "X = rng.normal(loc=mu, scale=std, size=420)\n",
    "\n",
    "num_bins = 20\n",
    "n, bins, patches = ax.hist(\n",
    "    politic_mean_relevances.Moral_relevance,\n",
    "    num_bins,\n",
    "    density=True,\n",
    "    color=\"tab:orange\",\n",
    "    alpha=0.5,\n",
    ")\n",
    "\n",
    "y = (1 / (np.sqrt(2 * np.pi) * std)) * np.exp(-0.5 * (1 / std * (bins - mu)) ** 2)\n",
    "ax.plot(bins, y, \"--\", color=\"tab:orange\", label=\"Political figures \")\n",
    "ax.set_ylabel(\"Count (estimated density)\", fontsize=14)\n",
    "std = random_name_df.outputs_z.std()\n",
    "mu = random_name_df.outputs_z.mean()\n",
    "rng = np.random.default_rng(19680801)\n",
    "X = rng.normal(loc=mu, scale=std, size=420)\n",
    "num_bins = 20\n",
    "n, bins, patches = ax.hist(\n",
    "    random_name_df.outputs_z, num_bins, density=True, color=\"tab:blue\", alpha=0.5,\n",
    ")\n",
    "\n",
    "y = (1 / (np.sqrt(2 * np.pi) * std)) * np.exp(-0.5 * (1 / std * (bins - mu)) ** 2)\n",
    "ax.plot(bins, y, \"--\", color=\"tab:blue\", label=\"Random names\")\n",
    "ax.set_xticklabels(ax.get_xticklabels(), fontsize=14)\n",
    "ax.set_yticklabels(ax.get_yticklabels(), fontsize=14)\n",
    "\n",
    "plt.legend(fontsize=14)\n",
    "ax.set_xlabel(r\"Reconstructed moral relevance\", fontsize=14)\n",
    "\n",
    "sns.despine()\n",
    "\n",
    "# plt.savefig('figs/coha_2b.png', dpi = 400, bbox_inches = 'tight')\n",
    "# plt.savefig('figs/coha_2b.pdf', dpi = 400, bbox_inches = 'tight')"
   ]
  },
  {
   "cell_type": "markdown",
   "id": "59c69f2e",
   "metadata": {},
   "source": [
    "## We can visualize each word and its average moral relevance below"
   ]
  },
  {
   "cell_type": "code",
   "execution_count": 60,
   "id": "8c70794d-5abe-45f6-8d93-9b2d1b1cc7a6",
   "metadata": {},
   "outputs": [],
   "source": [
    "mean_relevances[\"Query\"] = mean_relevances.words\n",
    "mean_relevances[\"Moral_relevance\"] = mean_relevances.outputs_z\n",
    "mean_relevances[\"Decade\"] = mean_relevances.year\n",
    "mean_relevances[\"Category\"] = [\"Disease\"] * len(mean_relevances)\n",
    "politic_mean_relevances[\"Category\"] = [\"Political figure\"] * len(\n",
    "    politic_mean_relevances,\n",
    ")\n",
    "\n",
    "joint_df = pd.concat((mean_relevances, politic_mean_relevances), ignore_index=True)\n",
    "joint_df = joint_df.groupby([\"Query\", \"Category\"]).Moral_relevance.mean().reset_index()"
   ]
  },
  {
   "cell_type": "code",
   "execution_count": 61,
   "id": "aafae385-b374-4e16-87b8-bdb8cea3a0bb",
   "metadata": {},
   "outputs": [],
   "source": [
    "from adjustText import adjust_text"
   ]
  },
  {
   "cell_type": "code",
   "execution_count": 62,
   "id": "0b86d53d-efef-44f7-befe-9624a1003e9a",
   "metadata": {},
   "outputs": [
    {
     "data": {
      "image/png": "[encoded data removed]",
      "text/plain": [
       "<Figure size 640x480 with 1 Axes>"
      ]
     },
     "metadata": {},
     "output_type": "display_data"
    }
   ],
   "source": [
    "sns.boxplot(data=joint_df, x=\"Category\", y=\"Moral_relevance\", boxprops={\"alpha\": 0.3})\n",
    "g = sns.stripplot(data=joint_df, x=\"Category\", y=\"Moral_relevance\")\n",
    "annotations = []\n",
    "for i, row in joint_df.iterrows():\n",
    "    rn = np.random.random()\n",
    "\n",
    "    x = 0 if row[\"Category\"] == \"Political figure\" else 1\n",
    "    y = row[\"Moral_relevance\"]\n",
    "    if rn <= 0.2 or (x == 1 and rn <= 0.3):\n",
    "        # g.text(x = x, y = y, s = row['Query'])\n",
    "        annotations.append(g.annotate(row[\"Query\"], (x, y), color=\"black\"))\n",
    "\n",
    "\n",
    "adjust_text(\n",
    "    annotations, expand=(1, 1.5), arrowprops=dict(arrowstyle=\"->\", color=\"blue\"),\n",
    ")\n",
    "\n",
    "g.set_ylabel(\"Moral relevance\")\n",
    "\n",
    "sns.despine()"
   ]
  },
  {
   "cell_type": "code",
   "execution_count": null,
   "id": "bf2f9f13",
   "metadata": {},
   "outputs": [],
   "source": []
  }
 ],
 "metadata": {
  "kernelspec": {
   "display_name": "Python 3 (ipykernel)",
   "language": "python",
   "name": "python3"
  },
  "language_info": {
   "codemirror_mode": {
    "name": "ipython",
    "version": 3
   },
   "file_extension": ".py",
   "mimetype": "text/x-python",
   "name": "python",
   "nbconvert_exporter": "python",
   "pygments_lexer": "ipython3",
   "version": "3.10.13"
  }
 },
 "nbformat": 4,
 "nbformat_minor": 5
}
