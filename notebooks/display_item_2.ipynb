{
 "cells": [
  {
   "cell_type": "code",
   "execution_count": 1,
   "id": "3484402c-a7ff-44cf-85c8-b413592ac533",
   "metadata": {},
   "outputs": [],
   "source": [
    "import matplotlib.pyplot as plt\n",
    "import seaborn as sns\n",
    "import pandas as pd\n",
    "import numpy as np\n",
    "from scipy.stats import spearmanr, pearsonr\n",
    "import statsmodels.api as sm\n",
    "import pickle\n",
    "import warnings\n",
    "import pingouin as pg\n",
    "import scipy.stats as stats\n",
    "warnings.filterwarnings('ignore')"
   ]
  },
  {
   "cell_type": "code",
   "execution_count": 2,
   "id": "3a5db844-da11-455d-982a-ca3ffc432146",
   "metadata": {},
   "outputs": [],
   "source": [
    "ts_df = pd.read_csv('./data/SWOW_prediction/eval/time_series/ts_df.csv')\n",
    "ts_df = ts_df.groupby(['words','year','property'])[['count','outputs_z']].mean().reset_index()\n",
    "ts_df['property_z'] = ts_df['outputs_z']\n"
   ]
  },
  {
   "cell_type": "code",
   "execution_count": 3,
   "id": "7797e10e-917d-4e5e-87f9-714d137af889",
   "metadata": {},
   "outputs": [],
   "source": [
    "category_norms = pd.read_csv('./data/Referential version_Item level data.csv')\n",
    "category_norms = category_norms.loc[category_norms['prod.freq'] > 1]\n",
    "disease_members = category_norms.loc[category_norms.category == 'disease']['category.member'].unique()\n",
    "\n",
    "\n",
    "epi_df = pd.read_csv('./data/moralization_terms/epidemics.csv') #wikipedia\n",
    "epidemic_cues = []\n",
    "for i, row in epi_df.iterrows():\n",
    "    row_terms = row['Terms'].split(',')\n",
    "    new_rows = [s.lower().strip() for s in row_terms]\n",
    "    epidemic_cues += new_rows\n",
    "\n",
    "disease_df = pd.read_csv('./data/moralization_terms/diseases.csv') #wikipedia\n",
    "disease_cues = []\n",
    "for i, row in disease_df.iterrows():\n",
    "    row_terms = row['Terms'].split(',')\n",
    "    new_rows = [s.lower().strip() for s in row_terms]\n",
    "    disease_cues += new_rows\n",
    "all_cues = set(epidemic_cues + disease_cues + list(disease_members))\n",
    "all_cues.remove('cold')\n",
    "disease_ts_df = ts_df.loc[(ts_df.words.isin(all_cues)) & (ts_df['count'] >= 50)].reset_index(drop = True)\n",
    "mean_relevances = disease_ts_df.loc[(disease_ts_df.property == 'previous_link')]\n",
    "mean_relevances = mean_relevances.groupby(['words','year']).outputs_z.mean().reset_index()\n",
    "moral_polarities =  disease_ts_df.loc[(disease_ts_df.property == 'polarity')]\n",
    "moral_polarities = moral_polarities.groupby(['words','year']).outputs_z.mean().reset_index()\n",
    "\n",
    "all_df = ts_df.loc[(ts_df['count'] >= 50) & (~ts_df.words.isin(all_cues)) & (ts_df.property == 'previous_link')].\\\n",
    "groupby(['words','year']).outputs_z.mean().reset_index()\n",
    "all_polarity_df = ts_df.loc[(ts_df['count'] >= 50) & (~ts_df.words.isin(all_cues)) & (ts_df.property == 'polarity')].\\\n",
    "groupby(['words','year']).outputs_z.mean().reset_index()"
   ]
  },
  {
   "cell_type": "code",
   "execution_count": 4,
   "id": "2a5bc6b9",
   "metadata": {},
   "outputs": [
    {
     "name": "stdout",
     "output_type": "stream",
     "text": [
      "{'salmonella', 'polio', 'baylisascariasis', 'lockjaw', 'hantaviruses', 'black fungi', 'chickenpox', 'asian flu', 'spanish flu', 'qfever', 'raccoon roundworm', 'hiv', 'kalaazar', 'dengue fever', 'malaria', 'tb', 'yellow fever', 'rabies', 'measles', 'scarlet fever', 'typhus', 'glanders', 'coronavirus', 'leukemia', 'bubonic plague', 'aids', 'black fever', 'hepatitis', 'meningitis', 'smallpox', 'trypanosomiasis', 'dengue', 'typhoid', 'cholera', 'lujo virus', 'heart disease', 'tumour', 'cryptococcosis', 'septicemic plague', 'granulomatous amoebic', 'sleepy sickness', 'marburg', 'pneumonic plague', 'leptospirosis', 'whooping cough', 'hfmd', 'tuberculosis', 'anthrax', 'meningoencephalitis', 'black fungus', 'mers', 'gae', 'triple e', 'marburg virus', 'malta fever', 'rift fever', 'rubella', 'tularemia', 'enterovirus', 'measle', 'flu', 'poliovirus', 'legionnaires', 'influenza', 'lassa fever', 'parrot fever', 'cow disease', 'ebola', 'std', 'chlamydia', 'cancer', 'aspergillosis', 'encephalitis lethargica', 'prion disease', 'sleeping sickness', 'botulism', 'bvirus', 'tetanus', 'pertussis', 'influenza a', 'poliomyelitis', 'naegleriasis', 'diphtheria', 'rabbit fever', 'nipah virus', 'meningococcal', 'psittacosis', 'sars', 'kuru', 'plague', 'intestinal capillariasis', 'hivaids', 'glander', 'diabetes', 'mvev', 'mumps', 'london flu', 'hong kong flu'}\n"
     ]
    }
   ],
   "source": [
    "#disease terms:\n",
    "\n",
    "print(all_cues)"
   ]
  },
  {
   "cell_type": "code",
   "execution_count": 5,
   "id": "3773631b",
   "metadata": {},
   "outputs": [
    {
     "data": {
      "text/plain": [
       "22"
      ]
     },
     "execution_count": 5,
     "metadata": {},
     "output_type": "execute_result"
    }
   ],
   "source": [
    "len(mean_relevances.words.unique()) #22 disease terms in total"
   ]
  },
  {
   "cell_type": "code",
   "execution_count": 6,
   "id": "eee24ba0-e705-49f0-ae83-eb9cef361ec4",
   "metadata": {},
   "outputs": [
    {
     "data": {
      "text/html": [
       "<div>\n",
       "<style scoped>\n",
       "    .dataframe tbody tr th:only-of-type {\n",
       "        vertical-align: middle;\n",
       "    }\n",
       "\n",
       "    .dataframe tbody tr th {\n",
       "        vertical-align: top;\n",
       "    }\n",
       "\n",
       "    .dataframe thead th {\n",
       "        text-align: right;\n",
       "    }\n",
       "</style>\n",
       "<table border=\"1\" class=\"dataframe\">\n",
       "  <thead>\n",
       "    <tr style=\"text-align: right;\">\n",
       "      <th></th>\n",
       "      <th>words</th>\n",
       "      <th>year</th>\n",
       "      <th>outputs_z</th>\n",
       "    </tr>\n",
       "  </thead>\n",
       "  <tbody>\n",
       "    <tr>\n",
       "      <th>97</th>\n",
       "      <td>polio</td>\n",
       "      <td>1990</td>\n",
       "      <td>1.191766</td>\n",
       "    </tr>\n",
       "    <tr>\n",
       "      <th>118</th>\n",
       "      <td>tuberculosis</td>\n",
       "      <td>1950</td>\n",
       "      <td>2.325789</td>\n",
       "    </tr>\n",
       "    <tr>\n",
       "      <th>23</th>\n",
       "      <td>cholera</td>\n",
       "      <td>1990</td>\n",
       "      <td>1.970073</td>\n",
       "    </tr>\n",
       "    <tr>\n",
       "      <th>40</th>\n",
       "      <td>flu</td>\n",
       "      <td>2000</td>\n",
       "      <td>0.792568</td>\n",
       "    </tr>\n",
       "  </tbody>\n",
       "</table>\n",
       "</div>"
      ],
      "text/plain": [
       "            words  year  outputs_z\n",
       "97          polio  1990   1.191766\n",
       "118  tuberculosis  1950   2.325789\n",
       "23        cholera  1990   1.970073\n",
       "40            flu  2000   0.792568"
      ]
     },
     "execution_count": 6,
     "metadata": {},
     "output_type": "execute_result"
    }
   ],
   "source": [
    "mean_relevances.sample(4) #(disease, year, moral relevance)"
   ]
  },
  {
   "cell_type": "code",
   "execution_count": 7,
   "id": "d0a82f5d-16dc-463e-95d5-c846aae6006e",
   "metadata": {},
   "outputs": [],
   "source": [
    "def get_mean_values(all_df, mean_relevances, year_column):\n",
    "    B = 1000\n",
    "    mean_values = []\n",
    "    all_df = all_df.copy(deep = True)\n",
    "    all_df.set_index('year',inplace = True)\n",
    "    \n",
    "    for b in range(B):\n",
    "        all_dfs = []\n",
    "        if b % 100 == 0:\n",
    "            print(b)\n",
    "        new_df = pd.DataFrame()\n",
    "        for i, row in mean_relevances.iterrows():\n",
    "            year = row[year_column]\n",
    "            new_row = all_df.loc[all_df.index == year]\n",
    "            if len(new_row) > 0:\n",
    "                all_dfs.append(new_row.sample(1))\n",
    "        new_df = pd.concat(all_dfs,ignore_index = True)\n",
    "        mean_values.append(new_df.outputs_z.mean())\n",
    "    return mean_values,new_df\n"
   ]
  },
  {
   "cell_type": "code",
   "execution_count": 8,
   "id": "917aa35e-7323-4f13-b6d7-db2e28560e7d",
   "metadata": {},
   "outputs": [
    {
     "name": "stdout",
     "output_type": "stream",
     "text": [
      "0\n",
      "100\n",
      "200\n",
      "300\n",
      "400\n",
      "500\n",
      "600\n",
      "700\n",
      "800\n",
      "900\n"
     ]
    }
   ],
   "source": [
    "disease_random_mean_values,disease_random_df = get_mean_values(all_df, mean_relevances,'year')"
   ]
  },
  {
   "cell_type": "code",
   "execution_count": 9,
   "id": "c84f5ceb",
   "metadata": {},
   "outputs": [
    {
     "name": "stdout",
     "output_type": "stream",
     "text": [
      "                 T  dof alternative  p-val          CI95%    cohen-d BF10  \\\n",
      "T-test -660.432692  999        less    0.0  [-inf, -0.02]  20.884715  inf   \n",
      "\n",
      "        power  \n",
      "T-test    1.0  \n"
     ]
    }
   ],
   "source": [
    "print(pg.ttest(disease_random_mean_values, \n",
    "                        mean_relevances.outputs_z.mean(),\n",
    "                 alternative = 'less')) #diseases are more relevant than random terms"
   ]
  },
  {
   "cell_type": "code",
   "execution_count": 10,
   "id": "f4c27e68",
   "metadata": {},
   "outputs": [
    {
     "name": "stdout",
     "output_type": "stream",
     "text": [
      "0\n",
      "100\n",
      "200\n",
      "300\n",
      "400\n",
      "500\n",
      "600\n",
      "700\n",
      "800\n",
      "900\n"
     ]
    }
   ],
   "source": [
    "disease_random_mean_polarity_values,disease_polarity_random_df = get_mean_values(all_polarity_df, moral_polarities,'year')"
   ]
  },
  {
   "cell_type": "code",
   "execution_count": 11,
   "id": "d81ffb83",
   "metadata": {},
   "outputs": [
    {
     "name": "stdout",
     "output_type": "stream",
     "text": [
      "                 T  dof alternative  p-val        CI95%    cohen-d BF10  power\n",
      "T-test  953.753303  999     greater    0.0  [0.02, inf]  30.160328  inf    1.0\n"
     ]
    }
   ],
   "source": [
    "print(pg.ttest(disease_random_mean_polarity_values, \n",
    "                       moral_polarities.outputs_z.mean(),\n",
    "                 alternative = 'greater')) #diseases are more morally negative than random terms"
   ]
  },
  {
   "cell_type": "code",
   "execution_count": 12,
   "id": "f4337843-f98e-4068-8d44-c72b839679c9",
   "metadata": {},
   "outputs": [],
   "source": [
    "leader_data = pd.read_csv('./data/wikipedia_political_ts_df.csv') #political leaders"
   ]
  },
  {
   "cell_type": "code",
   "execution_count": 13,
   "id": "255205aa-be1b-4f21-9629-99aa079e9045",
   "metadata": {},
   "outputs": [],
   "source": [
    "import os\n",
    "decades = np.arange(1850 ,2010, 10)\n",
    "baby_names = set()\n",
    "for decade in decades:\n",
    "    \n",
    "    years = np.arange(decade, decade + 10)\n",
    "    for year in years:\n",
    "        file_dir = f'./data/names/yob{year}.txt'  #Data set of baby names in the United States. (Download seperately)\n",
    "        if os.path.exists(file_dir):\n",
    "            with open(file_dir) as f:\n",
    "                lines = f.readlines()\n",
    "                for line in lines:\n",
    "                    name, gender, count = line.split(',')\n",
    "                    count = int(count)\n",
    "                    name = name.lower()\n",
    "                    baby_names.add(name)\n",
    "baby_ts_df = ts_df.loc[(ts_df['count'] >= 50) &(ts_df.property == 'previous_link') & (ts_df.words.isin(baby_names))]\n",
    "baby_ts_df_polarity = ts_df.loc[(ts_df['count'] >= 50) &(ts_df.property == 'polarity') & (ts_df.words.isin(baby_names))]"
   ]
  },
  {
   "cell_type": "code",
   "execution_count": 14,
   "id": "f2f4ea72-983e-44d3-b47b-7eacd1cf5c57",
   "metadata": {},
   "outputs": [],
   "source": [
    "\n",
    "politic_mean_relevances = leader_data.groupby(['Query','Decade']).\\\n",
    "Moral_relevance.mean().reset_index()\n",
    "politic_mean_relevances['outputs_z'] = politic_mean_relevances.Moral_relevance"
   ]
  },
  {
   "cell_type": "code",
   "execution_count": 15,
   "id": "e272703b",
   "metadata": {},
   "outputs": [],
   "source": [
    "\n",
    "politic_mean_polarities = leader_data.groupby(['Query','Decade']).\\\n",
    "Moral_polarity.mean().reset_index()\n",
    "politic_mean_polarities['outputs_z'] = politic_mean_polarities.Moral_polarity"
   ]
  },
  {
   "cell_type": "code",
   "execution_count": 16,
   "id": "e28d5da9-862d-4cad-a797-11b27201aa8b",
   "metadata": {},
   "outputs": [
    {
     "name": "stdout",
     "output_type": "stream",
     "text": [
      "65\n"
     ]
    },
    {
     "data": {
      "text/html": [
       "<div>\n",
       "<style scoped>\n",
       "    .dataframe tbody tr th:only-of-type {\n",
       "        vertical-align: middle;\n",
       "    }\n",
       "\n",
       "    .dataframe tbody tr th {\n",
       "        vertical-align: top;\n",
       "    }\n",
       "\n",
       "    .dataframe thead th {\n",
       "        text-align: right;\n",
       "    }\n",
       "</style>\n",
       "<table border=\"1\" class=\"dataframe\">\n",
       "  <thead>\n",
       "    <tr style=\"text-align: right;\">\n",
       "      <th></th>\n",
       "      <th>Query</th>\n",
       "      <th>Decade</th>\n",
       "      <th>Moral_relevance</th>\n",
       "      <th>outputs_z</th>\n",
       "    </tr>\n",
       "  </thead>\n",
       "  <tbody>\n",
       "    <tr>\n",
       "      <th>0</th>\n",
       "      <td>Abraham Lincoln</td>\n",
       "      <td>1860</td>\n",
       "      <td>1.408266</td>\n",
       "      <td>1.408266</td>\n",
       "    </tr>\n",
       "    <tr>\n",
       "      <th>1</th>\n",
       "      <td>Adolf Hitler</td>\n",
       "      <td>1940</td>\n",
       "      <td>2.084618</td>\n",
       "      <td>2.084618</td>\n",
       "    </tr>\n",
       "    <tr>\n",
       "      <th>2</th>\n",
       "      <td>Ahmed Sékou Touré</td>\n",
       "      <td>1980</td>\n",
       "      <td>-0.163273</td>\n",
       "      <td>-0.163273</td>\n",
       "    </tr>\n",
       "    <tr>\n",
       "      <th>3</th>\n",
       "      <td>Andrew Johnson</td>\n",
       "      <td>1860</td>\n",
       "      <td>1.128079</td>\n",
       "      <td>1.128079</td>\n",
       "    </tr>\n",
       "    <tr>\n",
       "      <th>4</th>\n",
       "      <td>Benito Mussolini</td>\n",
       "      <td>1940</td>\n",
       "      <td>0.331907</td>\n",
       "      <td>0.331907</td>\n",
       "    </tr>\n",
       "    <tr>\n",
       "      <th>...</th>\n",
       "      <td>...</td>\n",
       "      <td>...</td>\n",
       "      <td>...</td>\n",
       "      <td>...</td>\n",
       "    </tr>\n",
       "    <tr>\n",
       "      <th>60</th>\n",
       "      <td>William McKinley</td>\n",
       "      <td>1900</td>\n",
       "      <td>0.489170</td>\n",
       "      <td>0.489170</td>\n",
       "    </tr>\n",
       "    <tr>\n",
       "      <th>61</th>\n",
       "      <td>Winston Churchill</td>\n",
       "      <td>1940</td>\n",
       "      <td>0.729539</td>\n",
       "      <td>0.729539</td>\n",
       "    </tr>\n",
       "    <tr>\n",
       "      <th>62</th>\n",
       "      <td>Woodrow Wilson</td>\n",
       "      <td>1920</td>\n",
       "      <td>0.897606</td>\n",
       "      <td>0.897606</td>\n",
       "    </tr>\n",
       "    <tr>\n",
       "      <th>63</th>\n",
       "      <td>Yuri Andropov</td>\n",
       "      <td>1980</td>\n",
       "      <td>-0.924460</td>\n",
       "      <td>-0.924460</td>\n",
       "    </tr>\n",
       "    <tr>\n",
       "      <th>64</th>\n",
       "      <td>Zachary Taylor</td>\n",
       "      <td>1850</td>\n",
       "      <td>2.067802</td>\n",
       "      <td>2.067802</td>\n",
       "    </tr>\n",
       "  </tbody>\n",
       "</table>\n",
       "<p>65 rows × 4 columns</p>\n",
       "</div>"
      ],
      "text/plain": [
       "                Query  Decade  Moral_relevance  outputs_z\n",
       "0     Abraham Lincoln    1860         1.408266   1.408266\n",
       "1        Adolf Hitler    1940         2.084618   2.084618\n",
       "2   Ahmed Sékou Touré    1980        -0.163273  -0.163273\n",
       "3      Andrew Johnson    1860         1.128079   1.128079\n",
       "4    Benito Mussolini    1940         0.331907   0.331907\n",
       "..                ...     ...              ...        ...\n",
       "60   William McKinley    1900         0.489170   0.489170\n",
       "61  Winston Churchill    1940         0.729539   0.729539\n",
       "62     Woodrow Wilson    1920         0.897606   0.897606\n",
       "63      Yuri Andropov    1980        -0.924460  -0.924460\n",
       "64     Zachary Taylor    1850         2.067802   2.067802\n",
       "\n",
       "[65 rows x 4 columns]"
      ]
     },
     "execution_count": 16,
     "metadata": {},
     "output_type": "execute_result"
    }
   ],
   "source": [
    "print(len(politic_mean_relevances))\n",
    "politic_mean_relevances"
   ]
  },
  {
   "cell_type": "code",
   "execution_count": 17,
   "id": "7e3df97a-a57c-4f77-b743-91535da4579f",
   "metadata": {
    "scrolled": true
   },
   "outputs": [
    {
     "name": "stdout",
     "output_type": "stream",
     "text": [
      "0\n"
     ]
    },
    {
     "name": "stdout",
     "output_type": "stream",
     "text": [
      "100\n",
      "200\n",
      "300\n",
      "400\n",
      "500\n",
      "600\n",
      "700\n",
      "800\n",
      "900\n"
     ]
    }
   ],
   "source": [
    "random_name_mean_values,random_name_df = get_mean_values(baby_ts_df,politic_mean_relevances,'Decade')"
   ]
  },
  {
   "cell_type": "code",
   "execution_count": 18,
   "id": "bffd47bd",
   "metadata": {},
   "outputs": [
    {
     "data": {
      "text/plain": [
       "(-0.05163440619252994, 0.723120906675386)"
      ]
     },
     "execution_count": 18,
     "metadata": {},
     "output_type": "execute_result"
    }
   ],
   "source": [
    "np.mean(random_name_mean_values), politic_mean_relevances.Moral_relevance.mean()\n"
   ]
  },
  {
   "cell_type": "code",
   "execution_count": null,
   "id": "e3455b46",
   "metadata": {},
   "outputs": [
    {
     "data": {
      "text/html": [
       "<div>\n",
       "<style scoped>\n",
       "    .dataframe tbody tr th:only-of-type {\n",
       "        vertical-align: middle;\n",
       "    }\n",
       "\n",
       "    .dataframe tbody tr th {\n",
       "        vertical-align: top;\n",
       "    }\n",
       "\n",
       "    .dataframe thead th {\n",
       "        text-align: right;\n",
       "    }\n",
       "</style>\n",
       "<table border=\"1\" class=\"dataframe\">\n",
       "  <thead>\n",
       "    <tr style=\"text-align: right;\">\n",
       "      <th></th>\n",
       "      <th>T</th>\n",
       "      <th>dof</th>\n",
       "      <th>alternative</th>\n",
       "      <th>p-val</th>\n",
       "      <th>CI95%</th>\n",
       "      <th>cohen-d</th>\n",
       "      <th>BF10</th>\n",
       "      <th>power</th>\n",
       "    </tr>\n",
       "  </thead>\n",
       "  <tbody>\n",
       "    <tr>\n",
       "      <th>T-test</th>\n",
       "      <td>-210.953294</td>\n",
       "      <td>999</td>\n",
       "      <td>less</td>\n",
       "      <td>0.0</td>\n",
       "      <td>[-inf, -0.05]</td>\n",
       "      <td>6.670929</td>\n",
       "      <td>inf</td>\n",
       "      <td>1.0</td>\n",
       "    </tr>\n",
       "  </tbody>\n",
       "</table>\n",
       "</div>"
      ],
      "text/plain": [
       "                 T  dof alternative  p-val          CI95%   cohen-d BF10  \\\n",
       "T-test -210.953294  999        less    0.0  [-inf, -0.05]  6.670929  inf   \n",
       "\n",
       "        power  \n",
       "T-test    1.0  "
      ]
     },
     "execution_count": 20,
     "metadata": {},
     "output_type": "execute_result"
    }
   ],
   "source": [
    "pg.ttest(random_name_mean_values, \n",
    "                        politic_mean_relevances.Moral_relevance.mean(), alternative = 'less') #political leaders are more morally relevant than random names"
   ]
  },
  {
   "cell_type": "code",
   "execution_count": 21,
   "id": "8599f8d1-f7d8-47d0-8960-3e3308f5ac70",
   "metadata": {},
   "outputs": [
    {
     "name": "stdout",
     "output_type": "stream",
     "text": [
      "0\n",
      "100\n",
      "200\n",
      "300\n",
      "400\n",
      "500\n",
      "600\n",
      "700\n",
      "800\n",
      "900\n"
     ]
    }
   ],
   "source": [
    "random_name_polarity_values,random_polarity_name_df = get_mean_values(baby_ts_df_polarity,politic_mean_polarities,'Decade')"
   ]
  },
  {
   "cell_type": "code",
   "execution_count": 22,
   "id": "130a4e36",
   "metadata": {},
   "outputs": [
    {
     "data": {
      "text/plain": [
       "(0.07185051307631082, 0.43899408802190276)"
      ]
     },
     "execution_count": 22,
     "metadata": {},
     "output_type": "execute_result"
    }
   ],
   "source": [
    "np.mean(random_name_polarity_values), politic_mean_polarities.Moral_polarity.mean()\n"
   ]
  },
  {
   "cell_type": "code",
   "execution_count": 23,
   "id": "e1d1bfa5",
   "metadata": {},
   "outputs": [
    {
     "data": {
      "text/html": [
       "<div>\n",
       "<style scoped>\n",
       "    .dataframe tbody tr th:only-of-type {\n",
       "        vertical-align: middle;\n",
       "    }\n",
       "\n",
       "    .dataframe tbody tr th {\n",
       "        vertical-align: top;\n",
       "    }\n",
       "\n",
       "    .dataframe thead th {\n",
       "        text-align: right;\n",
       "    }\n",
       "</style>\n",
       "<table border=\"1\" class=\"dataframe\">\n",
       "  <thead>\n",
       "    <tr style=\"text-align: right;\">\n",
       "      <th></th>\n",
       "      <th>T</th>\n",
       "      <th>dof</th>\n",
       "      <th>alternative</th>\n",
       "      <th>p-val</th>\n",
       "      <th>CI95%</th>\n",
       "      <th>cohen-d</th>\n",
       "      <th>BF10</th>\n",
       "      <th>power</th>\n",
       "    </tr>\n",
       "  </thead>\n",
       "  <tbody>\n",
       "    <tr>\n",
       "      <th>T-test</th>\n",
       "      <td>-122.350159</td>\n",
       "      <td>999</td>\n",
       "      <td>less</td>\n",
       "      <td>0.0</td>\n",
       "      <td>[-inf, 0.08]</td>\n",
       "      <td>3.869052</td>\n",
       "      <td>inf</td>\n",
       "      <td>1.0</td>\n",
       "    </tr>\n",
       "  </tbody>\n",
       "</table>\n",
       "</div>"
      ],
      "text/plain": [
       "                 T  dof alternative  p-val         CI95%   cohen-d BF10  power\n",
       "T-test -122.350159  999        less    0.0  [-inf, 0.08]  3.869052  inf    1.0"
      ]
     },
     "execution_count": 23,
     "metadata": {},
     "output_type": "execute_result"
    }
   ],
   "source": [
    "pg.ttest(random_name_polarity_values, \n",
    "                        politic_mean_polarities.Moral_polarity.mean(), alternative = 'less') #political leaders are more positive than random names"
   ]
  },
  {
   "cell_type": "code",
   "execution_count": 24,
   "id": "9bbe99fc-6813-40aa-a5df-500bd548828a",
   "metadata": {},
   "outputs": [
    {
     "name": "stdout",
     "output_type": "stream",
     "text": [
      "-0.18767334286321216 0.147646685291603\n",
      "                 T  dof alternative  p-val          CI95%    cohen-d BF10  \\\n",
      "T-test -660.432692  999        less    0.0  [-inf, -0.02]  20.884715  inf   \n",
      "\n",
      "        power  \n",
      "T-test    1.0  \n",
      "Effect size: 2.401054340464371\n",
      "Two group t-test:                 T  dof alternative         p-val        CI95%   cohen-d  \\\n",
      "T-test  20.555335  134     greater  1.459058e-43  [1.67, inf]  2.401054   \n",
      "\n",
      "             BF10  power  \n",
      "T-test  1.486e+40    1.0  \n",
      "--------\n",
      "-0.28379632849650704 0.18052751611144716\n",
      "TtestResult(statistic=-210.95329428411506, pvalue=0.0, df=999)\n",
      "Effect size: 0.9276352160080404\n",
      "Two group t-test:                T  dof alternative         p-val        CI95%   cohen-d  \\\n",
      "T-test  5.666262   64     greater  1.868949e-07  [0.54, inf]  0.927635   \n",
      "\n",
      "             BF10  power  \n",
      "T-test  7.822e+04    1.0  \n",
      "                 T  dof alternative  p-val          CI95%   cohen-d BF10  \\\n",
      "T-test -210.953294  999        less    0.0  [-inf, -0.05]  6.670929  inf   \n",
      "\n",
      "        power  \n",
      "T-test    1.0  \n"
     ]
    },
    {
     "data": {
      "image/png": "[encoded data removed]",
      "text/plain": [
       "<Figure size 1200x400 with 2 Axes>"
      ]
     },
     "metadata": {},
     "output_type": "display_data"
    }
   ],
   "source": [
    "fig, axes = plt.subplots(1,2, figsize = (12, 4))\n",
    "ax = axes[0]\n",
    "std = np.std(disease_random_mean_values)\n",
    "mu = np.mean(disease_random_mean_values)\n",
    "print(mu - 2 * std, mu + 2 * std)\n",
    "\n",
    "print(pg.ttest(disease_random_mean_values, \n",
    "                        mean_relevances.outputs_z.mean(),\n",
    "                 alternative = 'less'))\n",
    "print('Effect size:', pg.compute_effsize(mean_relevances.outputs_z, \n",
    "                          disease_random_df.outputs_z, paired=True, eftype='cohen'))\n",
    "\n",
    "print('Two group t-test:', pg.ttest(mean_relevances.outputs_z, \n",
    "                          disease_random_df.outputs_z, paired=True,alternative = 'greater'))\n",
    "z_score = (mean_relevances.outputs_z.mean() - mu) /std\n",
    "# print('Zscore:', z_score, 1 - stats.norm.cdf(z_score))\n",
    "rng = np.random.default_rng(19680801)\n",
    "X = rng.normal(loc=mu, scale=std, size=420)\n",
    "\n",
    "num_bins = 42\n",
    "std = mean_relevances.outputs_z.std()\n",
    "mu = mean_relevances.outputs_z.mean()\n",
    "rng = np.random.default_rng(19680801)\n",
    "X = rng.normal(loc=mu, scale=std, size=420)\n",
    "\n",
    "num_bins = 20\n",
    "n, bins, patches = ax.hist(mean_relevances.outputs_z, num_bins, density=True, color = 'tab:orange',alpha = 0.5)\n",
    "\n",
    "y = ((1 / (np.sqrt(2 * np.pi) * std)) *\n",
    "     np.exp(-0.5 * (1 / std * (bins - mu))**2))\n",
    "ax.plot(bins, y, '--', color = 'tab:orange',label = 'Disease terms')\n",
    "ax.set_ylabel('Count (estimated density)',fontsize = 14)\n",
    "\n",
    "std = disease_random_df.outputs_z.std()\n",
    "mu = disease_random_df.outputs_z.mean()\n",
    "rng = np.random.default_rng(19680801)\n",
    "X = rng.normal(loc=mu, scale=std, size=420)\n",
    "num_bins = 20\n",
    "n, bins, patches = ax.hist(disease_random_df.outputs_z, num_bins, density=True, color = 'tab:blue',alpha = 0.5)\n",
    "\n",
    "y = ((1 / (np.sqrt(2 * np.pi) * std)) *\n",
    "     np.exp(-0.5 * (1 / std * (bins - mu))**2))\n",
    "ax.plot(bins, y, '--', color = 'tab:blue',label = 'Random terms')\n",
    "\n",
    "ax.legend(fontsize = 14)\n",
    "ax.set_xlabel(r'Reconstructed moral relevance',fontsize = 14)\n",
    "ax.set_xticklabels(ax.get_xticklabels(),fontsize = 14)\n",
    "ax.set_yticklabels(ax.get_yticklabels(),fontsize = 14)\n",
    "\n",
    "\n",
    "ax = axes[1]\n",
    "print('--------')\n",
    "std = np.std(random_name_mean_values)\n",
    "mu = np.mean(random_name_mean_values)\n",
    "print(mu - 2 * std, mu + 2 * std)\n",
    "print(stats.ttest_1samp(random_name_mean_values, \n",
    "                        popmean= politic_mean_relevances.Moral_relevance.mean(), alternative = 'less'))\n",
    "z_score = (politic_mean_relevances.Moral_relevance.mean() - mu) /std\n",
    "\n",
    "print('Effect size:', pg.compute_effsize(politic_mean_relevances.Moral_relevance, \n",
    "                          random_name_df.outputs_z, paired=True, eftype='cohen'))\n",
    "\n",
    "print('Two group t-test:', pg.ttest(politic_mean_relevances.outputs_z, \n",
    "                          random_name_df.outputs_z, paired=True,alternative = 'greater'))\n",
    "\n",
    "z_score = (politic_mean_relevances.Moral_relevance.mean() - mu) /std\n",
    "print(pg.ttest(random_name_mean_values, \n",
    "                        politic_mean_relevances.outputs_z.mean(),\n",
    "                 alternative = 'less'))\n",
    "\n",
    "\n",
    "rng = np.random.default_rng(19680801)\n",
    "X = rng.normal(loc=mu, scale=std, size=420)\n",
    "\n",
    "num_bins = 42\n",
    "\n",
    "\n",
    "std = politic_mean_relevances.Moral_relevance.std()\n",
    "mu = politic_mean_relevances.Moral_relevance.mean()\n",
    "rng = np.random.default_rng(19680801)\n",
    "X = rng.normal(loc=mu, scale=std, size=420)\n",
    "\n",
    "num_bins = 20\n",
    "n, bins, patches = ax.hist(politic_mean_relevances.Moral_relevance, num_bins, density=True, color = 'tab:orange',alpha = 0.5)\n",
    "\n",
    "y = ((1 / (np.sqrt(2 * np.pi) * std)) *\n",
    "     np.exp(-0.5 * (1 / std * (bins - mu))**2))\n",
    "ax.plot(bins, y, '--', color = 'tab:orange',label = 'Political figures ')\n",
    "ax.set_ylabel('Count (estimated density)',fontsize = 14)\n",
    "std = random_name_df.outputs_z.std()\n",
    "mu = random_name_df.outputs_z.mean()\n",
    "rng = np.random.default_rng(19680801)\n",
    "X = rng.normal(loc=mu, scale=std, size=420)\n",
    "num_bins = 20\n",
    "n, bins, patches = ax.hist(random_name_df.outputs_z, num_bins, density=True, color = 'tab:blue',alpha = 0.5)\n",
    "\n",
    "y = ((1 / (np.sqrt(2 * np.pi) * std)) *\n",
    "     np.exp(-0.5 * (1 / std * (bins - mu))**2))\n",
    "ax.plot(bins, y, '--', color = 'tab:blue',label = 'Random names')\n",
    "ax.set_xticklabels(ax.get_xticklabels(),fontsize = 14)\n",
    "ax.set_yticklabels(ax.get_yticklabels(),fontsize = 14)\n",
    "\n",
    "plt.legend(fontsize = 14)\n",
    "ax.set_xlabel(r'Reconstructed moral relevance',fontsize = 14)\n",
    "\n",
    "sns.despine()\n",
    "\n",
    "# plt.savefig('figs/coha_2b.png', dpi = 400, bbox_inches = 'tight')\n",
    "# plt.savefig('figs/coha_2b.pdf', dpi = 400, bbox_inches = 'tight')\n"
   ]
  },
  {
   "cell_type": "code",
   "execution_count": 25,
   "id": "0b26c7e4-1453-453c-a393-425227d4feba",
   "metadata": {},
   "outputs": [
    {
     "data": {
      "text/plain": [
       "22"
      ]
     },
     "execution_count": 25,
     "metadata": {},
     "output_type": "execute_result"
    }
   ],
   "source": [
    "len(mean_relevances.words.unique())"
   ]
  },
  {
   "cell_type": "code",
   "execution_count": 26,
   "id": "8cd25a93-1087-41f1-892e-30c54a412fc2",
   "metadata": {},
   "outputs": [
    {
     "data": {
      "text/plain": [
       "61"
      ]
     },
     "execution_count": 26,
     "metadata": {},
     "output_type": "execute_result"
    }
   ],
   "source": [
    "len(politic_mean_relevances.Query.unique())"
   ]
  },
  {
   "cell_type": "code",
   "execution_count": 27,
   "id": "8c70794d-5abe-45f6-8d93-9b2d1b1cc7a6",
   "metadata": {},
   "outputs": [],
   "source": [
    "mean_relevances['Query'] = mean_relevances.words\n",
    "mean_relevances['Moral_relevance'] = mean_relevances.outputs_z\n",
    "mean_relevances['Decade'] = mean_relevances.year\n",
    "mean_relevances['Category'] = ['Disease'] * len(mean_relevances)\n",
    "politic_mean_relevances['Category'] = ['Political figure'] * len(politic_mean_relevances)\n",
    "\n",
    "joint_df = pd.concat((mean_relevances, politic_mean_relevances), ignore_index = True)\n",
    "joint_df = joint_df.groupby(['Query','Category']).Moral_relevance.mean().reset_index()"
   ]
  },
  {
   "cell_type": "code",
   "execution_count": 28,
   "id": "aafae385-b374-4e16-87b8-bdb8cea3a0bb",
   "metadata": {},
   "outputs": [],
   "source": [
    "from adjustText import adjust_text\n"
   ]
  },
  {
   "cell_type": "code",
   "execution_count": 29,
   "id": "0b86d53d-efef-44f7-befe-9624a1003e9a",
   "metadata": {},
   "outputs": [
    {
     "data": {
      "image/png": "[encoded data removed]",
      "text/plain": [
       "<Figure size 640x480 with 1 Axes>"
      ]
     },
     "metadata": {},
     "output_type": "display_data"
    }
   ],
   "source": [
    "sns.boxplot(data = joint_df, x = 'Category', y = 'Moral_relevance',boxprops={'alpha': 0.3})\n",
    "g = sns.stripplot(data = joint_df, x = 'Category', y = 'Moral_relevance')\n",
    "annotations = []\n",
    "for i, row in joint_df.iterrows():\n",
    "    rn = np.random.random()\n",
    "    \n",
    "    x = 0 if row['Category'] == 'Political figure' else 1\n",
    "    y = row['Moral_relevance']\n",
    "    if rn <= 0.2 or x == 1 and rn <= 0.3:\n",
    "        # g.text(x = x, y = y, s = row['Query'])\n",
    "        annotations.append(g.annotate(row['Query'], (x, y),\n",
    "                    color = 'black'))\n",
    "\n",
    "    \n",
    "adjust_text(annotations,expand=(1, 1.5),arrowprops=dict(arrowstyle='->', color='blue'))\n",
    "\n",
    "g.set_ylabel('Moral relevance')\n",
    "\n",
    "sns.despine()"
   ]
  },
  {
   "cell_type": "code",
   "execution_count": null,
   "id": "bf2f9f13",
   "metadata": {},
   "outputs": [],
   "source": []
  }
 ],
 "metadata": {
  "kernelspec": {
   "display_name": "Python 3 (ipykernel)",
   "language": "python",
   "name": "python3"
  },
  "language_info": {
   "codemirror_mode": {
    "name": "ipython",
    "version": 3
   },
   "file_extension": ".py",
   "mimetype": "text/x-python",
   "name": "python",
   "nbconvert_exporter": "python",
   "pygments_lexer": "ipython3",
   "version": "3.10.13"
  }
 },
 "nbformat": 4,
 "nbformat_minor": 5
}
