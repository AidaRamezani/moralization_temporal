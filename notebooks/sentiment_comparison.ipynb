{
 "cells": [
  {
   "cell_type": "code",
   "execution_count": 1,
   "metadata": {},
   "outputs": [],
   "source": [
    "import matplotlib.pyplot as plt\n",
    "import seaborn as sns\n",
    "import pandas as pd\n",
    "import numpy as np\n",
    "import statsmodels.api as sm\n",
    "import pickle\n",
    "import warnings\n",
    "import pingouin as pg\n",
    "import scipy.stats as stats\n",
    "from scipy.stats import pearsonr\n",
    "warnings.filterwarnings('ignore')"
   ]
  },
  {
   "cell_type": "code",
   "execution_count": 2,
   "metadata": {},
   "outputs": [],
   "source": [
    "#Loading COHA time series data\n",
    "ts_df = pd.read_csv('./data/SWOW_prediction/eval/time_series/ts_df.csv')\n",
    "ts_df = ts_df.groupby(['words','year','property'])[['count','outputs_z']].mean().reset_index()\n",
    "ts_df['property_z'] = ts_df['outputs_z']\n"
   ]
  },
  {
   "cell_type": "code",
   "execution_count": 3,
   "metadata": {},
   "outputs": [],
   "source": [
    "#Loading sentiment data\n",
    "sent_df = pd.read_csv('./data/SWOW_prediction/eval/coha_sentiments.csv')"
   ]
  },
  {
   "cell_type": "code",
   "execution_count": 4,
   "metadata": {},
   "outputs": [
    {
     "data": {
      "text/html": [
       "<div>\n",
       "<style scoped>\n",
       "    .dataframe tbody tr th:only-of-type {\n",
       "        vertical-align: middle;\n",
       "    }\n",
       "\n",
       "    .dataframe tbody tr th {\n",
       "        vertical-align: top;\n",
       "    }\n",
       "\n",
       "    .dataframe thead th {\n",
       "        text-align: right;\n",
       "    }\n",
       "</style>\n",
       "<table border=\"1\" class=\"dataframe\">\n",
       "  <thead>\n",
       "    <tr style=\"text-align: right;\">\n",
       "      <th></th>\n",
       "      <th>words</th>\n",
       "      <th>sentiments</th>\n",
       "      <th>year</th>\n",
       "    </tr>\n",
       "  </thead>\n",
       "  <tbody>\n",
       "    <tr>\n",
       "      <th>0</th>\n",
       "      <td>fedex</td>\n",
       "      <td>0.9919</td>\n",
       "      <td>1900</td>\n",
       "    </tr>\n",
       "    <tr>\n",
       "      <th>1</th>\n",
       "      <td>fuhrer</td>\n",
       "      <td>0.9524</td>\n",
       "      <td>2000</td>\n",
       "    </tr>\n",
       "    <tr>\n",
       "      <th>2</th>\n",
       "      <td>nike</td>\n",
       "      <td>0.9493</td>\n",
       "      <td>1890</td>\n",
       "    </tr>\n",
       "    <tr>\n",
       "      <th>3</th>\n",
       "      <td>gae</td>\n",
       "      <td>0.9359</td>\n",
       "      <td>1970</td>\n",
       "    </tr>\n",
       "    <tr>\n",
       "      <th>4</th>\n",
       "      <td>hitler</td>\n",
       "      <td>0.9287</td>\n",
       "      <td>1860</td>\n",
       "    </tr>\n",
       "  </tbody>\n",
       "</table>\n",
       "</div>"
      ],
      "text/plain": [
       "    words  sentiments  year\n",
       "0   fedex      0.9919  1900\n",
       "1  fuhrer      0.9524  2000\n",
       "2    nike      0.9493  1890\n",
       "3     gae      0.9359  1970\n",
       "4  hitler      0.9287  1860"
      ]
     },
     "execution_count": 4,
     "metadata": {},
     "output_type": "execute_result"
    }
   ],
   "source": [
    "sent_df.head()"
   ]
  },
  {
   "cell_type": "code",
   "execution_count": 5,
   "metadata": {},
   "outputs": [],
   "source": [
    "ts_df = ts_df.merge(sent_df, on=['words','year'], how='left')"
   ]
  },
  {
   "cell_type": "code",
   "execution_count": 6,
   "metadata": {},
   "outputs": [
    {
     "data": {
      "text/html": [
       "<div>\n",
       "<style scoped>\n",
       "    .dataframe tbody tr th:only-of-type {\n",
       "        vertical-align: middle;\n",
       "    }\n",
       "\n",
       "    .dataframe tbody tr th {\n",
       "        vertical-align: top;\n",
       "    }\n",
       "\n",
       "    .dataframe thead th {\n",
       "        text-align: right;\n",
       "    }\n",
       "</style>\n",
       "<table border=\"1\" class=\"dataframe\">\n",
       "  <thead>\n",
       "    <tr style=\"text-align: right;\">\n",
       "      <th></th>\n",
       "      <th>words</th>\n",
       "      <th>year</th>\n",
       "      <th>property</th>\n",
       "      <th>count</th>\n",
       "      <th>outputs_z</th>\n",
       "      <th>property_z</th>\n",
       "      <th>sentiments</th>\n",
       "    </tr>\n",
       "  </thead>\n",
       "  <tbody>\n",
       "    <tr>\n",
       "      <th>318733</th>\n",
       "      <td>tiptoe</td>\n",
       "      <td>1890</td>\n",
       "      <td>previous_link</td>\n",
       "      <td>103.0</td>\n",
       "      <td>-0.929275</td>\n",
       "      <td>-0.929275</td>\n",
       "      <td>0.136598</td>\n",
       "    </tr>\n",
       "  </tbody>\n",
       "</table>\n",
       "</div>"
      ],
      "text/plain": [
       "         words  year       property  count  outputs_z  property_z  sentiments\n",
       "318733  tiptoe  1890  previous_link  103.0  -0.929275   -0.929275    0.136598"
      ]
     },
     "execution_count": 6,
     "metadata": {},
     "output_type": "execute_result"
    }
   ],
   "source": [
    "ts_df.sample()"
   ]
  },
  {
   "cell_type": "markdown",
   "metadata": {},
   "source": [
    "### Correlation between moral relevance and sentiment"
   ]
  },
  {
   "cell_type": "code",
   "execution_count": 7,
   "metadata": {},
   "outputs": [],
   "source": [
    "rel_df = ts_df[ts_df['property'] == 'previous_link'].dropna()"
   ]
  },
  {
   "cell_type": "code",
   "execution_count": 8,
   "metadata": {},
   "outputs": [
    {
     "data": {
      "image/png": "[encoded data removed]",
      "text/plain": [
       "<Figure size 640x480 with 1 Axes>"
      ]
     },
     "metadata": {},
     "output_type": "display_data"
    }
   ],
   "source": [
    "year_dfs = {year: rel_df[rel_df['year'] == year] for year in rel_df['year'].unique()}\n",
    "year_correlations = {year: pearsonr(df['outputs_z'], df['sentiments']) for year, df in year_dfs.items()}\n",
    "# Plotting the correlations\n",
    "plt.scatter(year_correlations.keys(), [corr[0] for corr in year_correlations.values()], marker='o')\n",
    "plt.ylabel('Correlation Coefficient')\n",
    "plt.xlabel('Year')\n",
    "plt.title('Correlation between moral relevance and sentiments over years')\n",
    "plt.show()"
   ]
  },
  {
   "cell_type": "code",
   "execution_count": 9,
   "metadata": {},
   "outputs": [
    {
     "data": {
      "text/plain": [
       "(PearsonRResult(statistic=-0.1395099700716067, pvalue=7.628866146508915e-91),\n",
       " 20788)"
      ]
     },
     "execution_count": 9,
     "metadata": {},
     "output_type": "execute_result"
    }
   ],
   "source": [
    "rel_df = rel_df.groupby('words').agg({'outputs_z': 'mean', 'sentiments': 'mean'}).reset_index()\n",
    "pearsonr(rel_df['outputs_z'], rel_df['sentiments']),len(rel_df)"
   ]
  },
  {
   "cell_type": "markdown",
   "metadata": {},
   "source": [
    "### Correlation between moral polarity and sentiment"
   ]
  },
  {
   "cell_type": "code",
   "execution_count": 10,
   "metadata": {},
   "outputs": [],
   "source": [
    "pol_df = ts_df[ts_df['property'] == 'polarity'].dropna()\n"
   ]
  },
  {
   "cell_type": "code",
   "execution_count": 11,
   "metadata": {},
   "outputs": [
    {
     "data": {
      "text/plain": [
       "169728"
      ]
     },
     "execution_count": 11,
     "metadata": {},
     "output_type": "execute_result"
    }
   ],
   "source": [
    "len(pol_df)"
   ]
  },
  {
   "cell_type": "code",
   "execution_count": 12,
   "metadata": {},
   "outputs": [
    {
     "data": {
      "image/png": "[encoded data removed]",
      "text/plain": [
       "<Figure size 640x480 with 1 Axes>"
      ]
     },
     "metadata": {},
     "output_type": "display_data"
    }
   ],
   "source": [
    "year_dfs = {year: pol_df[pol_df['year'] == year] for year in pol_df['year'].unique()}\n",
    "year_correlations = {year: pearsonr(df['outputs_z'], df['sentiments']) for year, df in year_dfs.items()}\n",
    "# Plotting the correlations\n",
    "plt.scatter(year_correlations.keys(), [corr[0] for corr in year_correlations.values()], marker='o')\n",
    "plt.ylabel('Correlation Coefficient')\n",
    "plt.xlabel('Year')\n",
    "plt.title('Correlation between moral polarity and sentiments over years')\n",
    "plt.show()"
   ]
  },
  {
   "cell_type": "code",
   "execution_count": 13,
   "metadata": {},
   "outputs": [
    {
     "data": {
      "text/plain": [
       "(PearsonRResult(statistic=0.44529104842763034, pvalue=0.0), 20788)"
      ]
     },
     "execution_count": 13,
     "metadata": {},
     "output_type": "execute_result"
    }
   ],
   "source": [
    "pol_df = pol_df.groupby('words').agg({'outputs_z': 'mean', 'sentiments': 'mean'}).reset_index()\n",
    "pearsonr(pol_df['outputs_z'], pol_df['sentiments']),len(pol_df)"
   ]
  },
  {
   "cell_type": "code",
   "execution_count": null,
   "metadata": {},
   "outputs": [],
   "source": []
  }
 ],
 "metadata": {
  "kernelspec": {
   "display_name": "Python 3 (ipykernel)",
   "language": "python",
   "name": "python3"
  },
  "language_info": {
   "codemirror_mode": {
    "name": "ipython",
    "version": 3
   },
   "file_extension": ".py",
   "mimetype": "text/x-python",
   "name": "python",
   "nbconvert_exporter": "python",
   "pygments_lexer": "ipython3",
   "version": "3.10.13"
  }
 },
 "nbformat": 4,
 "nbformat_minor": 2
}
