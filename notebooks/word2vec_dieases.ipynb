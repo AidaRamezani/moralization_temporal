{
 "cells": [
  {
   "cell_type": "code",
   "execution_count": 1,
   "id": "a203caae-9a56-4021-81b5-0222c24df7a9",
   "metadata": {},
   "outputs": [],
   "source": [
    "import pickle\n",
    "import warnings\n",
    "\n",
    "import numpy as np\n",
    "import pandas as pd\n",
    "\n",
    "warnings.filterwarnings(\"ignore\")\n",
    "import pingouin as pg"
   ]
  },
  {
   "cell_type": "code",
   "execution_count": 2,
   "id": "21976516-addc-4023-bf75-1cb0795039c9",
   "metadata": {},
   "outputs": [],
   "source": [
    "files = pickle.load(open(\"./data/emnlp_scores_coha.p\", \"rb\"))\n",
    "files.keys()\n",
    "df1 = files[\"moral_relevance\"]\n",
    "df1[\"property\"] = [\"previous_link\"] * len(df1)\n",
    "\n",
    "df2 = files[\"moral_polarity\"]\n",
    "df2[\"property\"] = [\"polarity\"] * len(df2)\n",
    "\n",
    "ts_df = pd.concat((df1, df2), ignore_index=True)\n",
    "ts_df[\"words\"] = ts_df[\"word\"]\n",
    "ts_df.drop([\"word\", \"vector\"], axis=1, inplace=True)\n",
    "ts_df[\"outputs_z\"] = ts_df[\"outputs\"].apply(lambda p: np.log(p / (1 - p)))\n",
    "ts_df = ts_df.loc[ts_df.year >= 1850].reset_index(drop=True)"
   ]
  },
  {
   "cell_type": "code",
   "execution_count": 3,
   "id": "fba4b643-6b47-4dc9-a8c7-874c597805bb",
   "metadata": {},
   "outputs": [
    {
     "name": "stdout",
     "output_type": "stream",
     "text": [
      "{'flu', 'mers', 'london flu', 'lassa fever', 'tuberculosis', 'rubella', 'kuru', 'meningococcal', 'botulism', 'cryptococcosis', 'sars', 'cow disease', 'diabetes', 'spanish flu', 'glander', 'influenza a', 'influenza', 'glanders', 'sleeping sickness', 'intestinal capillariasis', 'tumour', 'ebola', 'hepatitis', 'marburg', 'meningitis', 'rabbit fever', 'cancer', 'cholera', 'malaria', 'parrot fever', 'typhoid', 'dengue fever', 'coronavirus', 'aspergillosis', 'enterovirus', 'poliomyelitis', 'trypanosomiasis', 'plague', 'pneumonic plague', 'hfmd', 'rabies', 'psittacosis', 'diphtheria', 'raccoon roundworm', 'polio', 'kalaazar', 'tularemia', 'bubonic plague', 'whooping cough', 'gae', 'scarlet fever', 'prion disease', 'sleepy sickness', 'qfever', 'anthrax', 'std', 'marburg virus', 'yellow fever', 'black fungus', 'granulomatous amoebic', 'smallpox', 'lockjaw', 'mumps', 'leptospirosis', 'measle', 'encephalitis lethargica', 'meningoencephalitis', 'tetanus', 'measles', 'septicemic plague', 'hong kong flu', 'leukemia', 'lujo virus', 'typhus', 'nipah virus', 'baylisascariasis', 'black fungi', 'pertussis', 'asian flu', 'hivaids', 'rift fever', 'triple e', 'dengue', 'heart disease', 'poliovirus', 'aids', 'black fever', 'mvev', 'salmonella', 'legionnaires', 'naegleriasis', 'hiv', 'malta fever', 'hantaviruses', 'tb', 'chickenpox', 'chlamydia', 'bvirus'}\n"
     ]
    }
   ],
   "source": [
    "category_norms = pd.read_csv(\"./data/Referential version_Item level data.csv\")\n",
    "category_norms = category_norms.loc[category_norms[\"prod.freq\"] > 1]\n",
    "disease_members = category_norms.loc[category_norms.category == \"disease\"][\n",
    "    \"category.member\"\n",
    "].unique()\n",
    "\n",
    "\n",
    "epi_df = pd.read_csv(\"./data/moralization_terms/epidemics.csv\")  # wikipedia\n",
    "epidemic_cues = []\n",
    "for i, row in epi_df.iterrows():\n",
    "    row_terms = row[\"Terms\"].split(\",\")\n",
    "    new_rows = [s.lower().strip() for s in row_terms]\n",
    "    epidemic_cues += new_rows\n",
    "\n",
    "disease_df = pd.read_csv(\"./data/moralization_terms/diseases.csv\")  # wikipedia\n",
    "disease_cues = []\n",
    "for i, row in disease_df.iterrows():\n",
    "    row_terms = row[\"Terms\"].split(\",\")\n",
    "    new_rows = [s.lower().strip() for s in row_terms]\n",
    "    disease_cues += new_rows\n",
    "all_cues = set(epidemic_cues + disease_cues + list(disease_members))\n",
    "all_cues.remove(\"cold\")\n",
    "disease_ts_df = ts_df.loc[(ts_df.words.isin(all_cues))].reset_index(drop=True)\n",
    "mean_relevances = disease_ts_df.loc[(disease_ts_df.property == \"previous_link\")]\n",
    "mean_relevances = (\n",
    "    mean_relevances.groupby([\"words\", \"year\"]).outputs_z.mean().reset_index()\n",
    ")\n",
    "print(all_cues)\n",
    "all_df = (\n",
    "    ts_df.loc[(~ts_df.words.isin(all_cues)) & (ts_df.property == \"previous_link\")]\n",
    "    .groupby([\"words\", \"year\"])\n",
    "    .outputs_z.mean()\n",
    "    .reset_index()\n",
    ")\n",
    "\n",
    "moral_polarities = disease_ts_df.loc[(disease_ts_df.property == \"polarity\")]\n",
    "moral_polarities = (\n",
    "    moral_polarities.groupby([\"words\", \"year\"]).outputs_z.mean().reset_index()\n",
    ")\n",
    "all_polarity_df = (\n",
    "    ts_df.loc[(~ts_df.words.isin(all_cues)) & (ts_df.property == \"polarity\")]\n",
    "    .groupby([\"words\", \"year\"])\n",
    "    .outputs_z.mean()\n",
    "    .reset_index()\n",
    ")"
   ]
  },
  {
   "cell_type": "code",
   "execution_count": 4,
   "id": "56410984-e940-4f16-833f-d75a4ad1f470",
   "metadata": {},
   "outputs": [],
   "source": [
    "def get_mean_values(all_df, mean_relevances, year_column):\n",
    "    B = 1000\n",
    "    mean_values = []\n",
    "    all_df = all_df.copy(deep=True)\n",
    "    all_df.set_index(\"year\", inplace=True)\n",
    "\n",
    "    for b in range(B):\n",
    "        all_dfs = []\n",
    "        if b % 100 == 0:\n",
    "            print(b)\n",
    "        new_df = pd.DataFrame()\n",
    "        for i, row in mean_relevances.iterrows():\n",
    "            year = row[year_column]\n",
    "            new_row = all_df.loc[all_df.index == year]\n",
    "            if len(new_row) > 0:\n",
    "                all_dfs.append(new_row.sample(1))\n",
    "        new_df = pd.concat(all_dfs, ignore_index=True)\n",
    "        mean_values.append(new_df.outputs_z.mean())\n",
    "    return mean_values, new_df"
   ]
  },
  {
   "cell_type": "code",
   "execution_count": 5,
   "id": "979820c9",
   "metadata": {},
   "outputs": [],
   "source": [
    "disease_words_2 = [\n",
    "    \"anthrax\",\n",
    "    \"cancer\",\n",
    "    \"cholera\",\n",
    "    \"diabetes\",\n",
    "    \"diphtheria\",\n",
    "    \"flu\",\n",
    "    \"hepatitis\",\n",
    "    \"hiv\",\n",
    "    \"hivaids\",\n",
    "    \"influenza\",\n",
    "    \"leukemia\",\n",
    "    \"malaria\",\n",
    "    \"measles\",\n",
    "    \"plague\",\n",
    "    \"polio\",\n",
    "    \"salmonella\",\n",
    "    \"scarlet fever\",\n",
    "    \"smallpox\",\n",
    "    \"tuberculosis\",\n",
    "    \"typhoid\",\n",
    "    \"typhus\",\n",
    "    \"yellow fever\",\n",
    "]\n",
    "mean_relevances = mean_relevances.loc[mean_relevances.words.isin(disease_words_2)]\n",
    "mean_pol = moral_polarities.loc[moral_polarities.words.isin(disease_words_2)]"
   ]
  },
  {
   "cell_type": "code",
   "execution_count": 6,
   "id": "417a54ea-4260-4273-8bd1-1675757b2fed",
   "metadata": {},
   "outputs": [
    {
     "name": "stdout",
     "output_type": "stream",
     "text": [
      "0\n"
     ]
    },
    {
     "name": "stdout",
     "output_type": "stream",
     "text": [
      "100\n",
      "200\n",
      "300\n",
      "400\n",
      "500\n",
      "600\n",
      "700\n",
      "800\n",
      "900\n"
     ]
    }
   ],
   "source": [
    "disease_random_mean_values, disease_random_df = get_mean_values(\n",
    "    all_df, mean_relevances, \"year\",\n",
    ")"
   ]
  },
  {
   "cell_type": "code",
   "execution_count": 7,
   "id": "d02dd887",
   "metadata": {},
   "outputs": [
    {
     "name": "stdout",
     "output_type": "stream",
     "text": [
      "               T  dof alternative  p-val          CI95%   cohen-d BF10  power\n",
      "T-test -75.32179  999        less    0.0  [-inf, -0.02]  2.381884  inf    1.0\n"
     ]
    }
   ],
   "source": [
    "print(\n",
    "    pg.ttest(\n",
    "        disease_random_mean_values, mean_relevances.outputs_z.mean(), alternative=\"less\",\n",
    "    ),\n",
    ")"
   ]
  },
  {
   "cell_type": "code",
   "execution_count": 8,
   "id": "45e20faf",
   "metadata": {},
   "outputs": [
    {
     "name": "stdout",
     "output_type": "stream",
     "text": [
      "0\n"
     ]
    },
    {
     "name": "stdout",
     "output_type": "stream",
     "text": [
      "100\n",
      "200\n",
      "300\n",
      "400\n",
      "500\n",
      "600\n",
      "700\n",
      "800\n",
      "900\n",
      "                 T  dof alternative  p-val        CI95%    cohen-d BF10  power\n",
      "T-test  806.317419  999     greater    0.0  [-0.0, inf]  25.497996  inf    1.0\n"
     ]
    }
   ],
   "source": [
    "disease_random_mean_polarity_values, disease_polarity_random_df = get_mean_values(\n",
    "    all_polarity_df, moral_polarities, \"year\",\n",
    ")\n",
    "print(\n",
    "    pg.ttest(\n",
    "        disease_random_mean_polarity_values,\n",
    "        moral_polarities.outputs_z.mean(),\n",
    "        alternative=\"greater\",\n",
    "    ),\n",
    ")"
   ]
  },
  {
   "cell_type": "code",
   "execution_count": null,
   "id": "ccd8403f-d821-4d91-ad4f-afc9163d2217",
   "metadata": {},
   "outputs": [],
   "source": []
  }
 ],
 "metadata": {
  "kernelspec": {
   "display_name": "Python 3 (ipykernel)",
   "language": "python",
   "name": "python3"
  }
 },
 "nbformat": 4,
 "nbformat_minor": 5
}
