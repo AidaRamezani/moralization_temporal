{
 "cells": [
  {
   "cell_type": "code",
   "execution_count": 1,
   "metadata": {},
   "outputs": [],
   "source": [
    "import os\n",
    "import pandas as pd\n",
    "import numpy as np\n",
    "import torch\n",
    "import seaborn as sns\n",
    "import matplotlib.pyplot as plt"
   ]
  },
  {
   "cell_type": "code",
   "execution_count": 2,
   "metadata": {},
   "outputs": [],
   "source": [
    "from nltk.stem import WordNetLemmatizer"
   ]
  },
  {
   "cell_type": "code",
   "execution_count": 3,
   "metadata": {},
   "outputs": [],
   "source": [
    "ts_df = pd.read_csv('./data/SWOW_prediction/eval/time_series/ts_df.csv')\n",
    "\n",
    "ts_df = ts_df.groupby(['words','year','property'])[['outputs_z','count']].mean().reset_index()\n",
    "ts_df = ts_df.loc[ts_df['count'] >= 50]"
   ]
  },
  {
   "cell_type": "code",
   "execution_count": 4,
   "metadata": {},
   "outputs": [],
   "source": [
    "#Load emotion words and lemmatize them\n",
    "emotions = pd.read_csv('./data/emotions.csv')\n",
    "lemmatizer = WordNetLemmatizer()\n",
    "emotions =set(emotions.Word.unique())\n",
    "emotion_words = set()\n",
    "for w in emotions:\n",
    "    word_lemma = lemmatizer.lemmatize(w.lower())\n",
    "    emotion_words.add(word_lemma)\n",
    "\n"
   ]
  },
  {
   "cell_type": "code",
   "execution_count": 5,
   "metadata": {},
   "outputs": [
    {
     "data": {
      "text/plain": [
       "537"
      ]
     },
     "execution_count": 5,
     "metadata": {},
     "output_type": "execute_result"
    }
   ],
   "source": [
    "len(emotion_words)"
   ]
  },
  {
   "cell_type": "code",
   "execution_count": 6,
   "metadata": {},
   "outputs": [],
   "source": [
    "#Loading MFD words and lemmatizing them\n",
    "morals = pd.read_csv('./data/mfd2.csv').word.unique()\n",
    "\n",
    "moral_words = set()\n",
    "for w in morals:\n",
    "    word_lemma = lemmatizer.lemmatize(w.lower())\n",
    "    moral_words.add(word_lemma)"
   ]
  },
  {
   "cell_type": "code",
   "execution_count": 7,
   "metadata": {},
   "outputs": [
    {
     "data": {
      "text/plain": [
       "(537, 1685)"
      ]
     },
     "execution_count": 7,
     "metadata": {},
     "output_type": "execute_result"
    }
   ],
   "source": [
    "len(emotion_words), len(moral_words)"
   ]
  },
  {
   "cell_type": "code",
   "execution_count": 8,
   "metadata": {},
   "outputs": [
    {
     "data": {
      "text/plain": [
       "37"
      ]
     },
     "execution_count": 8,
     "metadata": {},
     "output_type": "execute_result"
    }
   ],
   "source": [
    "intersection = emotion_words.intersection(moral_words)\n",
    "len(intersection)\n"
   ]
  },
  {
   "cell_type": "code",
   "execution_count": 9,
   "metadata": {},
   "outputs": [],
   "source": [
    "emotion_words = emotion_words - intersection\n",
    "moral_words = moral_words - intersection"
   ]
  },
  {
   "cell_type": "code",
   "execution_count": 10,
   "metadata": {},
   "outputs": [],
   "source": [
    "emotion_ts_df = ts_df[ts_df['words'].isin(emotion_words)]\n",
    "moral_ts_df = ts_df[ts_df['words'].isin(moral_words)]\n",
    "intersection_ts_df = ts_df[ts_df['words'].isin(intersection)]"
   ]
  },
  {
   "cell_type": "code",
   "execution_count": 11,
   "metadata": {},
   "outputs": [
    {
     "data": {
      "text/plain": [
       "(37, 500, 1648)"
      ]
     },
     "execution_count": 11,
     "metadata": {},
     "output_type": "execute_result"
    }
   ],
   "source": [
    "len(intersection), len(emotion_words), len(moral_words)"
   ]
  },
  {
   "cell_type": "code",
   "execution_count": 12,
   "metadata": {},
   "outputs": [
    {
     "data": {
      "text/plain": [
       "(7438, 15878, 902)"
      ]
     },
     "execution_count": 12,
     "metadata": {},
     "output_type": "execute_result"
    }
   ],
   "source": [
    "len(emotion_ts_df), len(moral_ts_df), len(intersection_ts_df)"
   ]
  },
  {
   "cell_type": "code",
   "execution_count": 13,
   "metadata": {},
   "outputs": [
    {
     "data": {
      "image/png": "[encoded data removed]",
      "text/plain": [
       "<Figure size 640x480 with 1 Axes>"
      ]
     },
     "metadata": {},
     "output_type": "display_data"
    }
   ],
   "source": [
    "plt.hist(emotion_ts_df.loc[emotion_ts_df.property == 'previous_link'].outputs_z, bins=50, alpha=0.5, label='Emotion words',density=True)\n",
    "plt.hist(moral_ts_df.loc[moral_ts_df.property == 'previous_link'].outputs_z, bins=50, alpha=0.5, label='Moral words',density=True)\n",
    "plt.hist(intersection_ts_df.loc[intersection_ts_df.property == 'previous_link'].outputs_z, bins=50, alpha=0.5, label='Intersection',density=True)\n",
    "plt.xlabel('Estimated moral relevance') \n",
    "plt.ylabel('Density')\n",
    "plt.legend()\n",
    "# plt.savefig('notebooks/figs/intersection_emotion_moral.png',dpi = 500)\n",
    "plt.show()"
   ]
  },
  {
   "cell_type": "markdown",
   "metadata": {},
   "source": [
    "## Let's compare the moral relevance of emotion words with MFD words"
   ]
  },
  {
   "cell_type": "code",
   "execution_count": 15,
   "metadata": {},
   "outputs": [],
   "source": [
    "import pingouin as pg"
   ]
  },
  {
   "cell_type": "code",
   "execution_count": 16,
   "metadata": {},
   "outputs": [
    {
     "name": "stderr",
     "output_type": "stream",
     "text": [
      "/home/armzn/venv2/lib/python3.10/site-packages/pingouin/bayesian.py:152: RuntimeWarning: divide by zero encountered in scalar divide\n",
      "  bf10 = 1 / ((1 + t**2 / df) ** (-(df + 1) / 2) / integr)\n"
     ]
    },
    {
     "data": {
      "text/html": [
       "<div>\n",
       "<style scoped>\n",
       "    .dataframe tbody tr th:only-of-type {\n",
       "        vertical-align: middle;\n",
       "    }\n",
       "\n",
       "    .dataframe tbody tr th {\n",
       "        vertical-align: top;\n",
       "    }\n",
       "\n",
       "    .dataframe thead th {\n",
       "        text-align: right;\n",
       "    }\n",
       "</style>\n",
       "<table border=\"1\" class=\"dataframe\">\n",
       "  <thead>\n",
       "    <tr style=\"text-align: right;\">\n",
       "      <th></th>\n",
       "      <th>T</th>\n",
       "      <th>dof</th>\n",
       "      <th>alternative</th>\n",
       "      <th>p-val</th>\n",
       "      <th>CI95%</th>\n",
       "      <th>cohen-d</th>\n",
       "      <th>BF10</th>\n",
       "      <th>power</th>\n",
       "    </tr>\n",
       "  </thead>\n",
       "  <tbody>\n",
       "    <tr>\n",
       "      <th>T-test</th>\n",
       "      <td>-76.867253</td>\n",
       "      <td>7625.505394</td>\n",
       "      <td>less</td>\n",
       "      <td>0.0</td>\n",
       "      <td>[-inf, -1.41]</td>\n",
       "      <td>1.498761</td>\n",
       "      <td>inf</td>\n",
       "      <td>1.0</td>\n",
       "    </tr>\n",
       "  </tbody>\n",
       "</table>\n",
       "</div>"
      ],
      "text/plain": [
       "                T          dof alternative  p-val          CI95%   cohen-d  \\\n",
       "T-test -76.867253  7625.505394        less    0.0  [-inf, -1.41]  1.498761   \n",
       "\n",
       "       BF10  power  \n",
       "T-test  inf    1.0  "
      ]
     },
     "execution_count": 16,
     "metadata": {},
     "output_type": "execute_result"
    }
   ],
   "source": [
    "pg.ttest(emotion_ts_df.loc[emotion_ts_df.property == 'previous_link'].outputs_z,\n",
    "          moral_ts_df.loc[moral_ts_df.property == 'previous_link'].outputs_z, #MFD words are more morally relevant than emotion words\n",
    "          alternative='less')"
   ]
  },
  {
   "cell_type": "markdown",
   "metadata": {},
   "source": [
    "## Let's compare the moral relevance of emotion words with MFD words, while controlling for the number of words in each group."
   ]
  },
  {
   "cell_type": "code",
   "execution_count": 18,
   "metadata": {},
   "outputs": [],
   "source": [
    "d1 = emotion_ts_df.loc[emotion_ts_df.property == 'previous_link']\n",
    "d1_words = d1.words.unique()\n",
    "control_words = set(moral_ts_df.loc[moral_ts_df.property == 'previous_link'].words.unique())\n",
    "control_words = np.random.choice(list(control_words),len(d1_words),replace=False)\n",
    "len(control_words), len(d1_words)\n",
    "\n",
    "\n",
    "#Mapping each emotion word to a MFD word\n",
    "\n",
    "mapping = {d1_word:control_word for d1_word,control_word in zip(d1_words,control_words)}"
   ]
  },
  {
   "cell_type": "code",
   "execution_count": 19,
   "metadata": {},
   "outputs": [
    {
     "data": {
      "text/plain": [
       "3719"
      ]
     },
     "execution_count": 19,
     "metadata": {},
     "output_type": "execute_result"
    }
   ],
   "source": [
    "len(d1)"
   ]
  },
  {
   "cell_type": "code",
   "execution_count": 20,
   "metadata": {},
   "outputs": [],
   "source": [
    "control_df = pd.DataFrame()\n",
    "treatment_df = pd.DataFrame()\n",
    "rows = []\n",
    "for i, row in d1.iterrows():\n",
    "    year = row['year']\n",
    "    word = row['words']\n",
    "    new_df = moral_ts_df.loc[(moral_ts_df.property == 'previous_link') & (moral_ts_df.year == year) & (moral_ts_df.words == mapping[word])]\n",
    "    \n",
    "    if len(new_df) > 0:\n",
    "        control_df = pd.concat((control_df,new_df))\n",
    "        rows.append(row)\n",
    "treatment_df = pd.DataFrame(rows)\n",
    "        "
   ]
  },
  {
   "cell_type": "code",
   "execution_count": 21,
   "metadata": {},
   "outputs": [
    {
     "data": {
      "text/plain": [
       "(2725, 2725)"
      ]
     },
     "execution_count": 21,
     "metadata": {},
     "output_type": "execute_result"
    }
   ],
   "source": [
    "len(treatment_df), len(control_df)"
   ]
  },
  {
   "cell_type": "code",
   "execution_count": 22,
   "metadata": {},
   "outputs": [
    {
     "name": "stderr",
     "output_type": "stream",
     "text": [
      "/home/armzn/venv2/lib/python3.10/site-packages/pingouin/bayesian.py:152: RuntimeWarning: divide by zero encountered in scalar divide\n",
      "  bf10 = 1 / ((1 + t**2 / df) ** (-(df + 1) / 2) / integr)\n"
     ]
    },
    {
     "data": {
      "text/html": [
       "<div>\n",
       "<style scoped>\n",
       "    .dataframe tbody tr th:only-of-type {\n",
       "        vertical-align: middle;\n",
       "    }\n",
       "\n",
       "    .dataframe tbody tr th {\n",
       "        vertical-align: top;\n",
       "    }\n",
       "\n",
       "    .dataframe thead th {\n",
       "        text-align: right;\n",
       "    }\n",
       "</style>\n",
       "<table border=\"1\" class=\"dataframe\">\n",
       "  <thead>\n",
       "    <tr style=\"text-align: right;\">\n",
       "      <th></th>\n",
       "      <th>T</th>\n",
       "      <th>dof</th>\n",
       "      <th>alternative</th>\n",
       "      <th>p-val</th>\n",
       "      <th>CI95%</th>\n",
       "      <th>cohen-d</th>\n",
       "      <th>BF10</th>\n",
       "      <th>power</th>\n",
       "    </tr>\n",
       "  </thead>\n",
       "  <tbody>\n",
       "    <tr>\n",
       "      <th>T-test</th>\n",
       "      <td>-54.529921</td>\n",
       "      <td>2724</td>\n",
       "      <td>less</td>\n",
       "      <td>0.0</td>\n",
       "      <td>[-inf, -1.37]</td>\n",
       "      <td>1.494836</td>\n",
       "      <td>inf</td>\n",
       "      <td>1.0</td>\n",
       "    </tr>\n",
       "  </tbody>\n",
       "</table>\n",
       "</div>"
      ],
      "text/plain": [
       "                T   dof alternative  p-val          CI95%   cohen-d BF10  \\\n",
       "T-test -54.529921  2724        less    0.0  [-inf, -1.37]  1.494836  inf   \n",
       "\n",
       "        power  \n",
       "T-test    1.0  "
      ]
     },
     "execution_count": 22,
     "metadata": {},
     "output_type": "execute_result"
    }
   ],
   "source": [
    "pg.ttest(treatment_df.outputs_z,\n",
    "         control_df.outputs_z,\n",
    "          alternative='less',\n",
    "          paired=True\n",
    "          ) #MFD words are more morally relevant than emotion words controlled for year"
   ]
  },
  {
   "cell_type": "code",
   "execution_count": 23,
   "metadata": {},
   "outputs": [
    {
     "data": {
      "text/plain": [
       "Text(0, 0.5, 'Density')"
      ]
     },
     "execution_count": 23,
     "metadata": {},
     "output_type": "execute_result"
    },
    {
     "data": {
      "image/png": "[encoded data removed]",
      "text/plain": [
       "<Figure size 640x480 with 1 Axes>"
      ]
     },
     "metadata": {},
     "output_type": "display_data"
    }
   ],
   "source": [
    "plt.hist(treatment_df.outputs_z, bins=50, alpha=0.5, label='Emotion words',density=True)\n",
    "plt.hist(control_df.outputs_z, bins=50, alpha=0.5, label='Moral words',density=True)\n",
    "plt.legend()\n",
    "plt.xlabel('Estimated moral relevance')\n",
    "plt.ylabel('Density')\n",
    "# plt.savefig('notebooks/figs/intersection_emotion_moral_control.png',dpi = 500)"
   ]
  },
  {
   "cell_type": "code",
   "execution_count": null,
   "metadata": {},
   "outputs": [],
   "source": []
  }
 ],
 "metadata": {
  "kernelspec": {
   "display_name": "Python 3 (ipykernel)",
   "language": "python",
   "name": "python3"
  },
  "language_info": {
   "codemirror_mode": {
    "name": "ipython",
    "version": 3
   },
   "file_extension": ".py",
   "mimetype": "text/x-python",
   "name": "python",
   "nbconvert_exporter": "python",
   "pygments_lexer": "ipython3",
   "version": "3.10.13"
  }
 },
 "nbformat": 4,
 "nbformat_minor": 2
}
