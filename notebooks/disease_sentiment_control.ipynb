{
 "cells": [
  {
   "cell_type": "code",
   "execution_count": 1,
   "metadata": {},
   "outputs": [],
   "source": [
    "import warnings\n",
    "\n",
    "import pandas as pd\n",
    "import pingouin as pg\n",
    "\n",
    "warnings.filterwarnings(\"ignore\")"
   ]
  },
  {
   "cell_type": "code",
   "execution_count": 26,
   "metadata": {},
   "outputs": [],
   "source": [
    "# Loading COHA time series data\n",
    "ts_df = pd.read_csv(\"./data/SWOW_prediction/eval/time_series/ts_df.csv\")\n",
    "ts_df = (\n",
    "    ts_df.groupby([\"words\", \"year\", \"property\"])[[\"count\", \"outputs_z\"]]\n",
    "    .mean()\n",
    "    .reset_index()\n",
    ")\n",
    "ts_df[\"property_z\"] = ts_df[\"outputs_z\"]"
   ]
  },
  {
   "cell_type": "code",
   "execution_count": 27,
   "metadata": {},
   "outputs": [],
   "source": [
    "##Loading the sentiment df\n",
    "sent_df = pd.read_csv(\"./data/SWOW_prediction/eval/coha_sentiments.csv\")"
   ]
  },
  {
   "cell_type": "code",
   "execution_count": 28,
   "metadata": {},
   "outputs": [],
   "source": [
    "ts_df = ts_df.merge(sent_df, on=[\"words\", \"year\"], how=\"left\").dropna()"
   ]
  },
  {
   "cell_type": "code",
   "execution_count": 29,
   "metadata": {},
   "outputs": [],
   "source": [
    "def get_disease_dataframe():\n",
    "    category_norms = pd.read_csv(\n",
    "        \"./data/Referential version_Item level data.csv\",\n",
    "    )  # diseases from category norm dataset\n",
    "    category_norms = category_norms.loc[category_norms[\"prod.freq\"] > 1]\n",
    "    disease_members = category_norms.loc[category_norms.category == \"disease\"][\n",
    "        \"category.member\"\n",
    "    ].unique()\n",
    "\n",
    "    epi_df = pd.read_csv(\n",
    "        \"./data/moralization_terms/epidemics.csv\",\n",
    "    )  # wikipedia list of epidemics\n",
    "    epidemic_cues = []\n",
    "    for i, row in epi_df.iterrows():\n",
    "        row_terms = row[\"Terms\"].split(\",\")\n",
    "        new_rows = [s.lower().strip() for s in row_terms]\n",
    "        epidemic_cues += new_rows\n",
    "\n",
    "    disease_df = pd.read_csv(\n",
    "        \"./data/moralization_terms/diseases.csv\",\n",
    "    )  # wikipedia list of diseases\n",
    "    disease_cues = []\n",
    "    for i, row in disease_df.iterrows():\n",
    "        row_terms = row[\"Terms\"].split(\",\")\n",
    "        new_rows = [s.lower().strip() for s in row_terms]\n",
    "        disease_cues += new_rows\n",
    "\n",
    "    all_cues = set(epidemic_cues + disease_cues + list(disease_members))  # All diseases\n",
    "    all_cues.remove(\"cold\")  # Removing ambiguous term 'cold'\n",
    "\n",
    "    disease_ts_df = ts_df.loc[\n",
    "        (ts_df.words.isin(all_cues)) & (ts_df[\"count\"] >= 50)\n",
    "    ].reset_index(drop=True)\n",
    "\n",
    "    # Calculating the mean relevance of disease terms at each decade\n",
    "    mean_relevances = disease_ts_df.loc[(disease_ts_df.property == \"previous_link\")]\n",
    "    mean_relevances = (\n",
    "        mean_relevances.groupby([\"words\", \"year\"])[[\"outputs_z\", \"count\", \"sentiments\"]]\n",
    "        .mean()\n",
    "        .reset_index()\n",
    "    )\n",
    "\n",
    "    # Calculating the mean relevance of disease terms at each decade\n",
    "    moral_polarities = disease_ts_df.loc[(disease_ts_df.property == \"polarity\")]\n",
    "    moral_polarities = (\n",
    "        moral_polarities.groupby([\"words\", \"year\"])[\n",
    "            [\"outputs_z\", \"count\", \"sentiments\"]\n",
    "        ]\n",
    "        .mean()\n",
    "        .reset_index()\n",
    "    )\n",
    "\n",
    "    # Creating control dataframe without disease terms\n",
    "    all_df = (\n",
    "        ts_df.loc[\n",
    "            (ts_df[\"count\"] >= 50)\n",
    "            & (~ts_df.words.isin(all_cues))\n",
    "            & (ts_df.property == \"previous_link\")\n",
    "        ]\n",
    "        .groupby([\"words\", \"year\"])[[\"outputs_z\", \"count\", \"sentiments\"]]\n",
    "        .mean()\n",
    "        .reset_index()\n",
    "    )\n",
    "\n",
    "    # Creating control dataframe without disease terms (for morality)\n",
    "    all_polarity_df = (\n",
    "        ts_df.loc[\n",
    "            (ts_df[\"count\"] >= 50)\n",
    "            & (~ts_df.words.isin(all_cues))\n",
    "            & (ts_df.property == \"polarity\")\n",
    "        ]\n",
    "        .groupby([\"words\", \"year\"])[[\"outputs_z\", \"count\", \"sentiments\"]]\n",
    "        .mean()\n",
    "        .reset_index()\n",
    "    )\n",
    "\n",
    "    return (\n",
    "        all_cues,\n",
    "        disease_ts_df,\n",
    "        mean_relevances,\n",
    "        moral_polarities,\n",
    "        all_df,\n",
    "        all_polarity_df,\n",
    "    )"
   ]
  },
  {
   "cell_type": "code",
   "execution_count": 30,
   "metadata": {},
   "outputs": [],
   "source": [
    "all_cues, disease_ts_df, mean_relevances, moral_polarities, all_df, all_polarity_df = (\n",
    "    get_disease_dataframe()\n",
    ")"
   ]
  },
  {
   "cell_type": "code",
   "execution_count": 31,
   "metadata": {},
   "outputs": [
    {
     "data": {
      "text/html": [
       "<div>\n",
       "<style scoped>\n",
       "    .dataframe tbody tr th:only-of-type {\n",
       "        vertical-align: middle;\n",
       "    }\n",
       "\n",
       "    .dataframe tbody tr th {\n",
       "        vertical-align: top;\n",
       "    }\n",
       "\n",
       "    .dataframe thead th {\n",
       "        text-align: right;\n",
       "    }\n",
       "</style>\n",
       "<table border=\"1\" class=\"dataframe\">\n",
       "  <thead>\n",
       "    <tr style=\"text-align: right;\">\n",
       "      <th></th>\n",
       "      <th>words</th>\n",
       "      <th>year</th>\n",
       "      <th>outputs_z</th>\n",
       "      <th>count</th>\n",
       "      <th>sentiments</th>\n",
       "    </tr>\n",
       "  </thead>\n",
       "  <tbody>\n",
       "    <tr>\n",
       "      <th>127</th>\n",
       "      <td>typhoid</td>\n",
       "      <td>1930</td>\n",
       "      <td>1.611714</td>\n",
       "      <td>75.0</td>\n",
       "      <td>-0.135028</td>\n",
       "    </tr>\n",
       "    <tr>\n",
       "      <th>33</th>\n",
       "      <td>flu</td>\n",
       "      <td>1930</td>\n",
       "      <td>0.591219</td>\n",
       "      <td>57.0</td>\n",
       "      <td>-0.411268</td>\n",
       "    </tr>\n",
       "    <tr>\n",
       "      <th>98</th>\n",
       "      <td>polio</td>\n",
       "      <td>2000</td>\n",
       "      <td>1.108190</td>\n",
       "      <td>70.0</td>\n",
       "      <td>-0.015781</td>\n",
       "    </tr>\n",
       "    <tr>\n",
       "      <th>52</th>\n",
       "      <td>influenza</td>\n",
       "      <td>1980</td>\n",
       "      <td>1.391527</td>\n",
       "      <td>50.0</td>\n",
       "      <td>-0.175424</td>\n",
       "    </tr>\n",
       "  </tbody>\n",
       "</table>\n",
       "</div>"
      ],
      "text/plain": [
       "         words  year  outputs_z  count  sentiments\n",
       "127    typhoid  1930   1.611714   75.0   -0.135028\n",
       "33         flu  1930   0.591219   57.0   -0.411268\n",
       "98       polio  2000   1.108190   70.0   -0.015781\n",
       "52   influenza  1980   1.391527   50.0   -0.175424"
      ]
     },
     "execution_count": 31,
     "metadata": {},
     "output_type": "execute_result"
    }
   ],
   "source": [
    "mean_relevances.sample(4)  # (disease, year, moral relevance,count)"
   ]
  },
  {
   "cell_type": "code",
   "execution_count": 32,
   "metadata": {},
   "outputs": [
    {
     "data": {
      "text/html": [
       "<div>\n",
       "<style scoped>\n",
       "    .dataframe tbody tr th:only-of-type {\n",
       "        vertical-align: middle;\n",
       "    }\n",
       "\n",
       "    .dataframe tbody tr th {\n",
       "        vertical-align: top;\n",
       "    }\n",
       "\n",
       "    .dataframe thead th {\n",
       "        text-align: right;\n",
       "    }\n",
       "</style>\n",
       "<table border=\"1\" class=\"dataframe\">\n",
       "  <thead>\n",
       "    <tr style=\"text-align: right;\">\n",
       "      <th></th>\n",
       "      <th>words</th>\n",
       "      <th>year</th>\n",
       "      <th>outputs_z</th>\n",
       "      <th>count</th>\n",
       "      <th>sentiments</th>\n",
       "    </tr>\n",
       "  </thead>\n",
       "  <tbody>\n",
       "    <tr>\n",
       "      <th>30906</th>\n",
       "      <td>conscientious</td>\n",
       "      <td>1960</td>\n",
       "      <td>1.055703</td>\n",
       "      <td>166.0</td>\n",
       "      <td>0.001174</td>\n",
       "    </tr>\n",
       "    <tr>\n",
       "      <th>17465</th>\n",
       "      <td>branch</td>\n",
       "      <td>1960</td>\n",
       "      <td>-0.113129</td>\n",
       "      <td>1348.0</td>\n",
       "      <td>0.087313</td>\n",
       "    </tr>\n",
       "    <tr>\n",
       "      <th>17605</th>\n",
       "      <td>bravo</td>\n",
       "      <td>1970</td>\n",
       "      <td>-0.679645</td>\n",
       "      <td>57.0</td>\n",
       "      <td>0.089454</td>\n",
       "    </tr>\n",
       "    <tr>\n",
       "      <th>6372</th>\n",
       "      <td>anthony</td>\n",
       "      <td>1930</td>\n",
       "      <td>0.937651</td>\n",
       "      <td>813.0</td>\n",
       "      <td>0.074247</td>\n",
       "    </tr>\n",
       "  </tbody>\n",
       "</table>\n",
       "</div>"
      ],
      "text/plain": [
       "               words  year  outputs_z   count  sentiments\n",
       "30906  conscientious  1960   1.055703   166.0    0.001174\n",
       "17465         branch  1960  -0.113129  1348.0    0.087313\n",
       "17605          bravo  1970  -0.679645    57.0    0.089454\n",
       "6372         anthony  1930   0.937651   813.0    0.074247"
      ]
     },
     "execution_count": 32,
     "metadata": {},
     "output_type": "execute_result"
    }
   ],
   "source": [
    "all_df.sample(4)  # (non-disease, year, moral relevance,count)"
   ]
  },
  {
   "cell_type": "code",
   "execution_count": 35,
   "metadata": {},
   "outputs": [],
   "source": [
    "def get_mean_values_freq_controlled(all_df, mean_relevances, year_column, k=20):\n",
    "    \"\"\"Function to create create a bootstrap sample of the mean relevance of non-disease terms for controlling\n",
    "\n",
    "    Args:\n",
    "        all_df (pd.DataFrame): Dataframe containing the moral relevance of all words that are not disease terms\n",
    "        mean_relevances (pd.DataFrame): Dataframe containing the relevance of disease terms\n",
    "        year_column (str): Column name for the year in the dataframe\n",
    "        k (int): Number of k-nearest neighbors to sample from the control data\n",
    "\n",
    "    Returns:\n",
    "        mean_values (list): List of mean relevance values for the bootstrap samples\n",
    "        new_df (pd.DataFrame): Dataframe containing a randomly sampled control data\n",
    "\n",
    "    \"\"\"\n",
    "    B = 1000\n",
    "    mean_values = []\n",
    "    all_df = all_df.copy(deep=True)\n",
    "    all_df.set_index(\"year\", inplace=True)\n",
    "\n",
    "    for b in range(B):\n",
    "        all_dfs = []\n",
    "        if b % 100 == 0:\n",
    "            print(b)\n",
    "        new_df = pd.DataFrame()\n",
    "        for i, row in mean_relevances.iterrows():\n",
    "            year = row[year_column]\n",
    "            row_sentiment = row[\"sentiments\"]\n",
    "            new_row = all_df.loc[all_df.index == year]\n",
    "            new_row[\"sent_diff\"] = abs(new_row[\"sentiments\"] - row_sentiment)\n",
    "            new_row = new_row.sort_values(\"sent_diff\")\n",
    "            if len(new_row) > 0:\n",
    "                new_row = new_row.head(k)\n",
    "                all_dfs.append(new_row.sample(1))\n",
    "        new_df = pd.concat(all_dfs, ignore_index=True)\n",
    "        mean_values.append(new_df.outputs_z.mean())\n",
    "    return mean_values, new_df"
   ]
  },
  {
   "cell_type": "code",
   "execution_count": 36,
   "metadata": {},
   "outputs": [
    {
     "name": "stdout",
     "output_type": "stream",
     "text": [
      "0\n",
      "100\n",
      "200\n",
      "300\n",
      "400\n",
      "500\n",
      "600\n",
      "700\n",
      "800\n",
      "900\n"
     ]
    }
   ],
   "source": [
    "disease_random_mean_values, disease_random_df = get_mean_values_freq_controlled(\n",
    "    all_df, mean_relevances, \"year\", k=5,\n",
    ")"
   ]
  },
  {
   "cell_type": "markdown",
   "metadata": {},
   "source": [
    "### Let's compare the moral relevance of diseases terms with a bootstrapped mean of moral relevance for non-disease terms"
   ]
  },
  {
   "cell_type": "code",
   "execution_count": 23,
   "metadata": {},
   "outputs": [
    {
     "name": "stdout",
     "output_type": "stream",
     "text": [
      "                 T  dof alternative  p-val          CI95%    cohen-d BF10  \\\n",
      "T-test -711.961375  999        less    0.0  [-inf, -0.02]  22.514195  inf   \n",
      "\n",
      "        power  \n",
      "T-test    1.0  \n"
     ]
    }
   ],
   "source": [
    "print(\n",
    "    pg.ttest(\n",
    "        disease_random_mean_values, mean_relevances.outputs_z.mean(), alternative=\"less\",\n",
    "    ),\n",
    ")  # diseases are more relevant than random terms"
   ]
  },
  {
   "cell_type": "code",
   "execution_count": 38,
   "metadata": {},
   "outputs": [
    {
     "name": "stdout",
     "output_type": "stream",
     "text": [
      "0\n",
      "100\n",
      "200\n",
      "300\n",
      "400\n",
      "500\n",
      "600\n",
      "700\n",
      "800\n",
      "900\n"
     ]
    }
   ],
   "source": [
    "# Reapting the process for moral polarity\n",
    "disease_random_mean_polarity_values, disease_polarity_random_df = (\n",
    "    get_mean_values_freq_controlled(all_polarity_df, moral_polarities, \"year\", k=5)\n",
    ")"
   ]
  },
  {
   "cell_type": "code",
   "execution_count": 39,
   "metadata": {},
   "outputs": [
    {
     "name": "stdout",
     "output_type": "stream",
     "text": [
      "                 T  dof alternative  p-val         CI95%    cohen-d BF10  \\\n",
      "T-test  428.599484  999     greater    0.0  [-0.94, inf]  13.553506  inf   \n",
      "\n",
      "        power  \n",
      "T-test    1.0  \n"
     ]
    }
   ],
   "source": [
    "print(\n",
    "    pg.ttest(\n",
    "        disease_random_mean_polarity_values,\n",
    "        moral_polarities.outputs_z.mean(),\n",
    "        alternative=\"greater\",\n",
    "    ),\n",
    ")  # diseases are more morally negative than random terms"
   ]
  },
  {
   "cell_type": "code",
   "execution_count": null,
   "metadata": {},
   "outputs": [],
   "source": []
  }
 ],
 "metadata": {
  "kernelspec": {
   "display_name": "Python 3 (ipykernel)",
   "language": "python",
   "name": "python3"
  },
  "language_info": {
   "codemirror_mode": {
    "name": "ipython",
    "version": 3
   },
   "file_extension": ".py",
   "mimetype": "text/x-python",
   "name": "python",
   "nbconvert_exporter": "python",
   "pygments_lexer": "ipython3",
   "version": "3.10.13"
  }
 },
 "nbformat": 4,
 "nbformat_minor": 2
}
