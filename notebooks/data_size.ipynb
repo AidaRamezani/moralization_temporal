{
 "cells": [
  {
   "cell_type": "code",
   "execution_count": 1,
   "metadata": {},
   "outputs": [],
   "source": [
    "import matplotlib.pyplot as plt\n",
    "import seaborn as sns\n",
    "import pandas as pd\n",
    "import numpy as np\n",
    "from scipy.stats import spearmanr, pearsonr\n",
    "import scipy.stats as stats\n",
    "\n",
    "import statsmodels.api as sm\n",
    "import statsmodels.formula.api as smf\n",
    "from adjustText import adjust_text\n",
    "import pickle\n",
    "import warnings\n",
    "warnings.filterwarnings('ignore')\n",
    "import re\n",
    "from matplotlib.backends.backend_pdf import PdfPages\n",
    "from operator import concat\n",
    "from functools import reduce"
   ]
  },
  {
   "cell_type": "code",
   "execution_count": 2,
   "metadata": {},
   "outputs": [
    {
     "name": "stdout",
     "output_type": "stream",
     "text": [
      "COHA\n",
      "21659\n",
      "868\n",
      "& 1850 & 9597 & 161 & \\\\\n",
      "& 1860 & 9789 & 185 & \\\\\n",
      "& 1870 & 9835 & 197 & \\\\\n",
      "& 1880 & 9994 & 219 & \\\\\n",
      "& 1890 & 10046 & 235 & \\\\\n",
      "& 1900 & 10304 & 270 & \\\\\n",
      "& 1910 & 10392 & 290 & \\\\\n",
      "& 1920 & 10819 & 366 & \\\\\n",
      "& 1930 & 10734 & 403 & \\\\\n",
      "& 1940 & 10740 & 436 & \\\\\n",
      "& 1950 & 10933 & 483 & \\\\\n",
      "& 1960 & 10963 & 490 & \\\\\n",
      "& 1970 & 11078 & 533 & \\\\\n",
      "& 1980 & 11334 & 570 & \\\\\n",
      "& 1990 & 11638 & 583 & \\\\\n",
      "& 2000 & 11754 & 612 & \\\\\n",
      "--------------------------------------------------\n",
      "NYT\n",
      "18118\n",
      "433\n",
      "& 1987 & 13207 & 341 & \\\\\n",
      "& 1988 & 13181 & 351 & \\\\\n",
      "& 1989 & 13168 & 346 & \\\\\n",
      "& 1990 & 13141 & 352 & \\\\\n",
      "& 1991 & 12937 & 345 & \\\\\n",
      "& 1992 & 12930 & 346 & \\\\\n",
      "& 1993 & 12963 & 343 & \\\\\n",
      "& 1994 & 12944 & 343 & \\\\\n",
      "& 1995 & 13066 & 337 & \\\\\n",
      "& 1996 & 13116 & 353 & \\\\\n",
      "& 1997 & 13193 & 346 & \\\\\n",
      "& 1998 & 13447 & 354 & \\\\\n",
      "& 1999 & 13503 & 352 & \\\\\n",
      "& 2000 & 13504 & 360 & \\\\\n",
      "& 2001 & 13417 & 360 & \\\\\n",
      "& 2002 & 13456 & 358 & \\\\\n",
      "& 2003 & 13411 & 349 & \\\\\n",
      "& 2004 & 13393 & 351 & \\\\\n",
      "& 2005 & 13458 & 352 & \\\\\n",
      "& 2006 & 13475 & 350 & \\\\\n",
      "& 2007 & 12191 & 332 & \\\\\n",
      "--------------------------------------------------\n"
     ]
    }
   ],
   "source": [
    "for data, d_path in zip(\n",
    "    ['COHA','NYT'],\n",
    "    ['./data/SWOW_prediction/eval/time_series/ts_df.csv', './data/SWOW_prediction/eval/time_series/nyt_ts_df.csv']\n",
    "):\n",
    "    print(data)\n",
    "    ts_df = pd.read_csv(d_path)\n",
    "    ts_df = ts_df.groupby(['words','year','property'])[['outputs_z','count']].mean().reset_index()\n",
    "    print(len(ts_df.words.unique()))\n",
    "    bi_grams = [x for x in ts_df.words.unique() if len(x.split())==2]\n",
    "    print(len(bi_grams))\n",
    "    ts_df['bi_gram'] = ts_df.words.apply(lambda x: True if x in bi_grams else False)\n",
    "    years = sorted(ts_df.year.unique())\n",
    "    list_rows = []\n",
    "    for year in years:\n",
    "        year_df = ts_df[ts_df.year==year].loc[ts_df.property=='previous_link']\n",
    "        row = {\n",
    "            'year':year,\n",
    "            'one_gram': len(year_df[year_df.bi_gram == False].words.unique()),\n",
    "            'bi_grams': len(year_df[year_df.bi_gram == True].words.unique()),\n",
    "        }\n",
    "        list_rows.append(row)\n",
    "    results_df = pd.DataFrame(list_rows)\n",
    "    for i, row in results_df.iterrows():\n",
    "        print('&', row.year, '&', row.one_gram, '&' ,row.bi_grams, '&', '\\\\\\\\')\n",
    "    print('-' * 50)"
   ]
  },
  {
   "cell_type": "code",
   "execution_count": null,
   "metadata": {},
   "outputs": [],
   "source": []
  }
 ],
 "metadata": {
  "kernelspec": {
   "display_name": "Python 3 (ipykernel)",
   "language": "python",
   "name": "python3"
  },
  "language_info": {
   "codemirror_mode": {
    "name": "ipython",
    "version": 3
   },
   "file_extension": ".py",
   "mimetype": "text/x-python",
   "name": "python",
   "nbconvert_exporter": "python",
   "pygments_lexer": "ipython3",
   "version": "3.10.13"
  }
 },
 "nbformat": 4,
 "nbformat_minor": 2
}
